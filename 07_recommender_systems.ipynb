{
 "cells": [
  {
   "cell_type": "markdown",
   "metadata": {},
   "source": [
    "# Using SimEc for recommender systems\n",
    "Tasks like product recommendation or drug-target interaction prediction essentially consist of having to predict missing entries in a large matrix containing pairwise relations, e.g., the user ratings of some items or whether or not a drug interacts with a certain protein. Besides the sparse matrix containing the pairwise relations, generally one can also construct some feature vectors for the items and users (drugs / proteins), e.g., based on textual descriptions. These can come in especially handy when predictions need to be made, e.g., for new items that did not receive any user ratings so far. In the following we will only talk about items and users but of course this extends to other problem setups as well like drug-target interaction prediction. We distinguish between 3 tasks with increasing difficulty:\n",
    "- **T1**: Predict missing ratings for existing items and users\n",
    "- **T2a** and **T2b**: Predict ratings for new items and existing users (a) or new users and existing items (b)\n",
    "- **T3**: Predict ratings for new items and new users\n",
    "\n",
    "For tasks T2a/b and T3, feature vectors describing items and/or users are required. \n",
    "\n",
    "There are several methods that can be used to solve some or all of the above tasks. These include:\n",
    "##### Baseline Methods\n",
    "- **Predict average**: This is a no-brainer: simply fill all the missing values by averages. For example, an item rating from a user can be predicted based on the average rating the user usually gives (he might in general be more or less critical than other users) and the average rating the item got from other users (it might be better or worse than the average item) or for new items and users just predict the overall average rating (solves **T1, T2a/b, T3**).\n",
    "- **SVD of the ratings matrix**: By factorizing the ratings matrix using (iterative) singular value decomposition (SVD), one can compute a low rank approximation of the ratings matrix and use these approximate values as predictions for the missing values (solves **T1**). This can also be combined with the average ratings from above, i.e., the low rank approximation can be used to predict the residuals.\n",
    "- **SVD + Regression**: Given some feature vectors for items or users and the low rank approximation of the ratings matrix computed above, using a regression model, the mapping from the items' feature vectors to their rating vectors can be learned (or respectively for users). This is an extension of the above method to additionally solve either **T2a** or **T2b**, or **T3** if models are learned for both sides of the factorization.\n",
    "- **Regression/Classification model**: This approach is completely different from the so-called latent factor models discussed above. Here we train an ordinary regression or classification model (depending on the form of the pairwise data, e.g. continuous ratings or binary interactions) by using as input the concatenation of the feature vectors of an item and a user and as the target their rating. One possible realization of such a model could involve two neural networks to map the individual feature vectors into some lower dimensional embedding space. This approach can be used to solve all tasks **T1, T2a/b, T3** provided corresponding feature vectors are available.\n",
    "\n",
    "##### Similarity Encoder Models\n",
    "- **Factorization of the ratings matrix using the identity matrix as input**: By training a SimEc to factorize the ratings matrix using the identity matrix as input, we can recreate the solution obtained with SVD (while possibly better handling missing values when computing the decomposition). Correspondingly, this only solves **T1**.\n",
    "- **Factorization of the ratings matrix using feature vectors as input**: By using either item or user feature vectors as input when factorizing the ratings matrix, we can additionally solve **T2a** or **T2b**.\n",
    "- **Train a second SimEc with feature vectors and fixed last layer weights**: After training, e.g., a SimEc with item feature vectors as input to decompose the ratings matrix, we can use this SimEc to compute the item embeddings $Y$. We can then construct a second SimEc, which uses user feature vectors as input to factorize the ratings matrix. However, here we fix the weights of the last layer by setting them to the transpose of the embedding matrix computed for the items. After this SimEc is trained, we can now use both SimEcs to compute item and user embeddings respectively and then compute the scalar product of the embedding vectors to predict the ratings. This approach can then also be used to predict the ratings given the feature vectors for new items and users, i.e., it can be used to solve all tasks **T1, T2a/b, T3**.\n",
    "\n",
    "If the rating matrix contains explicit ratings (i.e. likes and dislikes), all available entries can be used to train the above models. If the pairwise relations in the matrix only represent implicit feedback or binary interactions (e.g. the user listens to music by certain artists, which means he likes them, but we don't know if he doesn't listen to other artists because he doesn't know them or because he doesn't like them), then we can use the given entries in the matrix as positive examples and additionally take a random sample of the missing entries and use them as negative examples. In the latter case, it might be more useful to use classification instead of regression models and also when training the SimEc it could be helpful to apply a non-linearity on the output before computing the error of the model.\n",
    "\n",
    "\n",
    "### Dataset\n",
    "In this notebook we work with the [movielens dataset](https://grouplens.org/datasets/movielens/10m/) and additionally pull some information about the individual movies from [the movie database](https://api.themoviedb.org/) using their API.\n",
    "\n",
    "Since we only have additional information about the movies, not the users, we focus on solving tasks **T1** and **T2a** here."
   ]
  },
  {
   "cell_type": "code",
   "execution_count": 1,
   "metadata": {
    "ExecuteTime": {
     "end_time": "2018-12-21T22:30:50.190178Z",
     "start_time": "2018-12-21T22:30:48.812987Z"
    }
   },
   "outputs": [
    {
     "name": "stderr",
     "output_type": "stream",
     "text": [
      "/home/franzi/anaconda3/lib/python3.6/site-packages/h5py/__init__.py:36: FutureWarning: Conversion of the second argument of issubdtype from `float` to `np.floating` is deprecated. In future, it will be treated as `np.float64 == np.dtype(float).type`.\n",
      "  from ._conv import register_converters as _register_converters\n",
      "Using TensorFlow backend.\n"
     ]
    }
   ],
   "source": [
    "from __future__ import unicode_literals, division, print_function, absolute_import\n",
    "from builtins import range, str\n",
    "import os\n",
    "import json\n",
    "import requests\n",
    "import numpy as np\n",
    "np.random.seed(28)\n",
    "import pandas as pd\n",
    "import matplotlib.pyplot as plt\n",
    "import tensorflow as tf\n",
    "tf.set_random_seed(28)\n",
    "import keras\n",
    "import keras.backend as K\n",
    "\n",
    "from collections import defaultdict, Counter\n",
    "from scipy.sparse import lil_matrix, dok_matrix, csr_matrix, coo_matrix, hstack, vstack, diags\n",
    "from scipy.sparse.linalg import svds\n",
    "from scipy.stats import spearmanr, pearsonr\n",
    "from sklearn.metrics import mean_squared_error, mean_absolute_error\n",
    "from sklearn.linear_model import Ridge as rreg\n",
    "from sklearn.model_selection import GridSearchCV\n",
    "from simec import SimilarityEncoder\n",
    "\n",
    "%matplotlib inline\n",
    "%load_ext autoreload\n",
    "%autoreload 2\n",
    "\n",
    "savefigs = True"
   ]
  },
  {
   "cell_type": "markdown",
   "metadata": {},
   "source": [
    "### Loading Data"
   ]
  },
  {
   "cell_type": "code",
   "execution_count": 2,
   "metadata": {
    "ExecuteTime": {
     "end_time": "2018-12-21T22:30:50.216096Z",
     "start_time": "2018-12-21T22:30:50.191555Z"
    }
   },
   "outputs": [],
   "source": [
    "if not os.path.exists(\"data/recsys/tmdb_data\"):\n",
    "    os.mkdir(\"data/recsys/tmdb_data\")\n",
    "\n",
    "def parse_tmdb(tmdbid, apikey):\n",
    "    movie_data = {}\n",
    "    if os.path.exists(\"data/recsys/tmdb_data/%r.json\" % tmdbid):\n",
    "        with open(\"data/recsys/tmdb_data/%r.json\" % tmdbid) as f:\n",
    "            movie_data = json.load(f)\n",
    "    # for a movie with tmdbid get:\n",
    "    # genres:name, original language en y/n, id, title, overview, release_date-->year,\n",
    "    # keywords:keywords:name, credits:cast:name[:10], credits:crew:(\"job\": \"Director\"):name\n",
    "    if not movie_data:\n",
    "        r = requests.get(\"https://api.themoviedb.org/3/movie/%r?api_key=%s&language=en-US&append_to_response=keywords,credits\" % (tmdbid, apikey))\n",
    "        if r.status_code != 200:\n",
    "            print(\"something went wrong when accessing tmdb with id %r!\" % tmdbid)\n",
    "            print(r.text)\n",
    "        else:\n",
    "            movie_json = r.json()\n",
    "            movie_data['tmdbid'] = movie_json['id']\n",
    "            movie_data['title'] = movie_json['title']\n",
    "            movie_data['overview'] = movie_json['overview']\n",
    "            movie_data['release_date'] = movie_json['release_date']\n",
    "            movie_data['year'] = movie_json[\"release_date\"].split(\"-\")[0]\n",
    "            movie_data['original_en'] = str(movie_json['original_language'] == \"en\")\n",
    "            movie_data['genres'] = [g[\"name\"] for g in movie_json['genres']]\n",
    "            movie_data['keywords'] = [k[\"name\"] for k in movie_json['keywords']['keywords']]\n",
    "            movie_data['cast'] = [c[\"name\"] for c in movie_json['credits']['cast'][:10]]\n",
    "            movie_data['directors'] = [c[\"name\"] for c in movie_json['credits']['crew'] if c[\"job\"] == \"Director\"]\n",
    "            print(\"got data for %s\" % movie_json['title'])\n",
    "            with open(\"data/recsys/tmdb_data/%r.json\" % tmdbid, \"w\") as f:\n",
    "                json.dump(movie_data, f, indent=2)\n",
    "    return movie_data"
   ]
  },
  {
   "cell_type": "code",
   "execution_count": 3,
   "metadata": {
    "ExecuteTime": {
     "end_time": "2018-12-21T22:30:50.438291Z",
     "start_time": "2018-12-21T22:30:50.217354Z"
    }
   },
   "outputs": [
    {
     "name": "stdout",
     "output_type": "stream",
     "text": [
      "got data for 10608 movies\n"
     ]
    },
    {
     "name": "stderr",
     "output_type": "stream",
     "text": [
      "/home/franzi/anaconda3/lib/python3.6/site-packages/ipykernel_launcher.py:3: ParserWarning: Falling back to the 'python' engine because the 'c' engine does not support regex separators (separators > 1 char and different from '\\s+' are interpreted as regex); you can avoid this warning by specifying engine='python'.\n",
      "  This is separate from the ipykernel package so we can avoid doing imports until\n"
     ]
    }
   ],
   "source": [
    "# get movielens data from: https://grouplens.org/datasets/movielens/10m/\n",
    "# load all possible movies (in the 10m dataset)\n",
    "df_movies = pd.read_csv(\"data/recsys/ml-10M100K/movies.dat\", sep=\"::\", names=[\"movieId\",\"title\",\"genres\"])\n",
    "# get corresponding tmdbids (only in 20m dataset)\n",
    "df_links = pd.read_csv(\"data/recsys/ml-20m/links.csv\")\n",
    "df_links = df_links.dropna()\n",
    "df_links = df_links.astype(int) \n",
    "map_movieids = dict(zip(df_links.movieId, df_links.tmdbId))\n",
    "# get additional details from themoviedb.org (assumes api key is stored at data/recsys/tmdb_apikey.txt)\n",
    "if os.path.exists(\"data/recsys/tmdb_data.json\"):\n",
    "    with open(\"data/recsys/tmdb_data.json\") as f:\n",
    "        movies_data = json.load(f)\n",
    "else:\n",
    "    movies_data = {}\n",
    "    with open('data/recsys/tmdb_apikey.txt') as f:\n",
    "        apikey = f.read().strip()\n",
    "    for movieid in df_movies.movieId:\n",
    "        if movieid in map_movieids:\n",
    "            m = parse_tmdb(map_movieids[movieid], apikey)\n",
    "            if m:\n",
    "                # careful: when loading the json later the ids will be strings as well anyways\n",
    "                movies_data[str(movieid)] = m\n",
    "            else:\n",
    "                print(\"error with movie id: %i\" % movieid)\n",
    "    with open(\"data/recsys/tmdb_data.json\", \"w\") as f:\n",
    "        json.dump(movies_data, f, indent=2)\n",
    "print(\"got data for %i movies\" % len(movies_data))"
   ]
  },
  {
   "cell_type": "code",
   "execution_count": 4,
   "metadata": {
    "ExecuteTime": {
     "end_time": "2018-12-21T22:31:24.530889Z",
     "start_time": "2018-12-21T22:30:50.439766Z"
    }
   },
   "outputs": [
    {
     "name": "stdout",
     "output_type": "stream",
     "text": [
      "parsed 0 lines\n",
      "parsed 1000000 lines\n",
      "parsed 2000000 lines\n",
      "parsed 3000000 lines\n",
      "parsed 4000000 lines\n",
      "parsed 5000000 lines\n",
      "parsed 6000000 lines\n",
      "parsed 7000000 lines\n",
      "parsed 8000000 lines\n",
      "parsed 9000000 lines\n",
      "parsed 10000000 lines\n",
      "10604 movies, 69878 users, and 9989664 ratings\n"
     ]
    }
   ],
   "source": [
    "# load pairwise data and generate a dict with {(movieid, userid): rating}\n",
    "movieids = set()\n",
    "userids = set()\n",
    "tuple_ratings = {}\n",
    "rating_pairs = []\n",
    "with open(\"data/recsys/ml-10M100K/ratings.dat\") as f:\n",
    "    for i, l in enumerate(f.readlines()):\n",
    "        if not i % 1000000:\n",
    "            print(\"parsed %i lines\" % i)\n",
    "        u, m, r, t = l.strip().split(\"::\")\n",
    "        # only consider ratings for movies where we have external data available\n",
    "        if m in movies_data:\n",
    "            # in addition to the ratings, also get a list of all users and movies\n",
    "            if u not in userids:\n",
    "                userids.add(u)\n",
    "            if m not in movieids:\n",
    "                movieids.add(m)\n",
    "            tuple_ratings[(m,u)] = float(r)\n",
    "            rating_pairs.append((m,u))\n",
    "        #else:\n",
    "        #    print(\"warning, skipping rating for movie with id %r\" % m)\n",
    "# shuffle all movie and user ids (important so we can split data into train and test sets)\n",
    "# this list additionally functions as a mapping from a (matrix) index to the actual id\n",
    "np.random.seed(13)\n",
    "map_index2movieid = np.random.permutation(sorted(movieids))\n",
    "map_index2userid = np.random.permutation(sorted(userids))\n",
    "# also get a shuffeled list of all rating pairs\n",
    "rating_pairs = np.random.permutation(rating_pairs)\n",
    "print(\"%i movies, %i users, and %i ratings\" % (len(movieids), len(userids), len(rating_pairs)))"
   ]
  },
  {
   "cell_type": "markdown",
   "metadata": {},
   "source": [
    "## Ratings Prediction\n",
    "#### Overview of prediction results (RMSE)\n",
    "\n",
    "|  | mean | mean+SVD | mean+SimEc(I) | mean+SVD+regression | mean+SimEc(X) |\n",
    "| --- | --- | --- | --- | --- | --- |\n",
    "| **T1** | 0.88614 | **0.85891** | 0.87724 | 0.88014 | 0.86800 |\n",
    "| **T2a** | 0.97610 | - | - | 0.97332 | **0.96897** |\n",
    "\n",
    "While the SVD of the residual ratings matrix gives the best approximation of the ratings for known movies and users (T1), learning the connection between the movies' feature vectors and the pairwise relations with a SimEc enables us to make better prediction for new movies (T2a)."
   ]
  },
  {
   "cell_type": "code",
   "execution_count": 5,
   "metadata": {
    "ExecuteTime": {
     "end_time": "2018-12-21T22:31:24.573706Z",
     "start_time": "2018-12-21T22:31:24.532524Z"
    }
   },
   "outputs": [],
   "source": [
    "# we have different scenarios: either we're only missing some individual ratings or entire movies/users\n",
    "def split_traintest(scenario):\n",
    "    print(\"generating train/test splits for scenario %r\" % scenario)\n",
    "    if scenario == \"T1\":\n",
    "        # missing ratings\n",
    "        rating_pairs_train = rating_pairs[:int(0.7*len(rating_pairs))]\n",
    "        rating_pairs_test = rating_pairs[int(0.7*len(rating_pairs)):]\n",
    "        map_index2movieid_train = map_index2movieid\n",
    "        map_index2userid_train = map_index2userid\n",
    "    else:\n",
    "        rating_pairs_train = []\n",
    "        rating_pairs_test = []\n",
    "        if scenario == \"T2a\":\n",
    "            # missing movies\n",
    "            map_index2movieid_train = map_index2movieid[:int(0.7*len(map_index2movieid))]\n",
    "            map_index2userid_train = map_index2userid\n",
    "        elif scenario == \"T2b\":\n",
    "            # missing users\n",
    "            map_index2movieid_train = map_index2movieid\n",
    "            map_index2userid_train = map_index2userid[:int(0.7*len(map_index2userid))]\n",
    "        elif scenario == \"T3\":\n",
    "            # missing movies and users\n",
    "            map_index2movieid_train = map_index2movieid[:int(0.85*len(map_index2movieid))]\n",
    "            map_index2userid_train = map_index2userid[:int(0.8*len(map_index2userid))]\n",
    "        else:\n",
    "            raise Exception(\"unknown scenario %r, use either T1, T2a, T2b, or T3!\" % scenario)\n",
    "        movieids_train_set = set(map_index2movieid_train)\n",
    "        userids_train_set = set(map_index2userid_train)\n",
    "        rating_pairs_train = []\n",
    "        rating_pairs_test = []\n",
    "        for (m, u) in rating_pairs:\n",
    "            if u in userids_train_set and m in movieids_train_set:\n",
    "                rating_pairs_train.append((m, u))\n",
    "            else:\n",
    "                rating_pairs_test.append((m, u))\n",
    "    print(\"got %i training and %i test ratings\" % (len(rating_pairs_train), len(rating_pairs_test)))\n",
    "    # create mappings from the actual id to the index\n",
    "    map_movieid2index_train = {m: i for i, m in enumerate(map_index2movieid_train)}\n",
    "    map_userid2index_train = {u: i for i, u in enumerate(map_index2userid_train)}\n",
    "    return rating_pairs_train, rating_pairs_test, map_index2userid_train,\\\n",
    "           map_index2movieid_train, map_userid2index_train, map_movieid2index_train\n",
    "\n",
    "def make_train_matrix(tuple_ratings, rating_pairs_train, map_userid2index_train, map_movieid2index_train):\n",
    "    # transform training ratings into a sparse matrix for convenience\n",
    "    print(\"transforming dict with %i ratings into sparse matrix\" % len(rating_pairs_train))\n",
    "    ratings_matrix = lil_matrix((len(map_movieid2index_train),len(map_userid2index_train)))\n",
    "    for (m, u) in rating_pairs_train:\n",
    "        ratings_matrix[map_movieid2index_train[m],map_userid2index_train[u]] = tuple_ratings[(m, u)]\n",
    "    ratings_matrix = csr_matrix(ratings_matrix)\n",
    "    return ratings_matrix"
   ]
  },
  {
   "cell_type": "markdown",
   "metadata": {},
   "source": [
    "### Baseline model: predict mean"
   ]
  },
  {
   "cell_type": "code",
   "execution_count": 6,
   "metadata": {
    "ExecuteTime": {
     "end_time": "2018-12-21T22:31:24.602225Z",
     "start_time": "2018-12-21T22:31:24.575525Z"
    }
   },
   "outputs": [],
   "source": [
    "class MeansModel():\n",
    "    \"\"\"\n",
    "    A very simple baseline model, which predicts the rating a user would give to a movie as:\n",
    "        mean + user_mean + movie_mean\n",
    "    \"\"\"\n",
    "    def __init__(self, shrinkage=1.):\n",
    "        self.mean = None\n",
    "        self.mean_users = {}\n",
    "        self.mean_movies = {}\n",
    "        # shrinkage decreases the influence of the individual user/movie means\n",
    "        # --> mean + shrinkage*user_mean + shrinkage*movie_mean\n",
    "        # it should always be between 0 and 1; 0 means individual means are ignored\n",
    "        self.shrinkage = max(0., min(1., shrinkage))\n",
    "\n",
    "    def fit(self, tuple_ratings, rating_pairs_train):\n",
    "        # overall mean based on all training ratings\n",
    "        self.mean = np.mean([tuple_ratings[(m, u)] for (m, u) in rating_pairs_train])\n",
    "        # means for movies and users\n",
    "        if self.shrinkage:\n",
    "            mean_users = defaultdict(list)\n",
    "            mean_movies = defaultdict(list)\n",
    "            for (m, u) in rating_pairs_train:\n",
    "                mean_users[u].append(tuple_ratings[(m, u)])\n",
    "                mean_movies[m].append(tuple_ratings[(m, u)])\n",
    "            self.mean_users = {u: np.mean(mean_users[u])-self.mean for u in mean_users}\n",
    "            self.mean_movies = {m: np.mean(mean_movies[m])-self.mean for m in mean_movies}\n",
    "    \n",
    "    def predict(self, m, u, residuals=None):\n",
    "        \"\"\"\n",
    "        generate rating prediction for a user u and movie m\n",
    "        \"\"\"\n",
    "        rating = self.mean\n",
    "        if u in self.mean_users:\n",
    "            rating += self.shrinkage*self.mean_users[u]\n",
    "        if m in self.mean_movies:\n",
    "            rating += self.shrinkage*self.mean_movies[m]\n",
    "        if residuals and (m, u) in residuals:\n",
    "            rating += residuals[(m, u)]\n",
    "        return rating\n",
    "    \n",
    "    def compute_residuals(self, tuple_ratings, rating_pairs_train):\n",
    "        \"\"\"\n",
    "        for all ratings, subtract the respective average ratings to get residuals\n",
    "        \"\"\"\n",
    "        return {(m, u): tuple_ratings[(m, u)] - (self.mean+self.shrinkage*(self.mean_users[u]+self.mean_movies[m]))\n",
    "                                  for (m, u) in rating_pairs_train}"
   ]
  },
  {
   "cell_type": "code",
   "execution_count": 7,
   "metadata": {
    "ExecuteTime": {
     "end_time": "2018-12-21T22:43:05.166392Z",
     "start_time": "2018-12-21T22:31:24.603503Z"
    }
   },
   "outputs": [
    {
     "name": "stdout",
     "output_type": "stream",
     "text": [
      "generating train/test splits for scenario 'T1'\n",
      "got 6992764 training and 2996900 test ratings\n",
      "fitting model with shrinkage=0.0\n",
      "Scenario T1: RMSE: 1.06044; MAE: 0.85552\n",
      "fitting model with shrinkage=0.1\n",
      "Scenario T1: RMSE: 1.02330; MAE: 0.82574\n",
      "fitting model with shrinkage=0.5\n",
      "Scenario T1: RMSE: 0.91333; MAE: 0.71937\n",
      "fitting model with shrinkage=0.9\n",
      "Scenario T1: RMSE: 0.88074; MAE: 0.68157\n",
      "fitting model with shrinkage=1.0\n",
      "Scenario T1: RMSE: 0.88614; MAE: 0.68404\n",
      "generating train/test splits for scenario 'T2a'\n",
      "got 7064138 training and 2925526 test ratings\n",
      "fitting model with shrinkage=0.0\n",
      "Scenario T2a: RMSE: 1.05938; MAE: 0.85143\n",
      "fitting model with shrinkage=0.1\n",
      "Scenario T2a: RMSE: 1.04342; MAE: 0.83821\n",
      "fitting model with shrinkage=0.5\n",
      "Scenario T2a: RMSE: 0.99569; MAE: 0.79322\n",
      "fitting model with shrinkage=0.9\n",
      "Scenario T2a: RMSE: 0.97628; MAE: 0.76558\n",
      "fitting model with shrinkage=1.0\n",
      "Scenario T2a: RMSE: 0.97610; MAE: 0.76332\n",
      "generating train/test splits for scenario 'T2b'\n",
      "got 7015197 training and 2974467 test ratings\n",
      "fitting model with shrinkage=0.0\n",
      "Scenario T2b: RMSE: 1.05763; MAE: 0.85382\n",
      "fitting model with shrinkage=0.1\n",
      "Scenario T2b: RMSE: 1.03627; MAE: 0.83724\n",
      "fitting model with shrinkage=0.5\n",
      "Scenario T2b: RMSE: 0.97058; MAE: 0.77542\n",
      "fitting model with shrinkage=0.9\n",
      "Scenario T2b: RMSE: 0.94101; MAE: 0.73810\n",
      "fitting model with shrinkage=1.0\n",
      "Scenario T2b: RMSE: 0.93976; MAE: 0.73544\n",
      "generating train/test splits for scenario 'T3'\n",
      "got 6827065 training and 3162599 test ratings\n",
      "fitting model with shrinkage=0.0\n",
      "Scenario T3: RMSE: 1.05580; MAE: 0.85198\n",
      "fitting model with shrinkage=0.1\n",
      "Scenario T3: RMSE: 1.03854; MAE: 0.83850\n",
      "fitting model with shrinkage=0.5\n",
      "Scenario T3: RMSE: 0.98629; MAE: 0.78893\n",
      "fitting model with shrinkage=0.9\n",
      "Scenario T3: RMSE: 0.96390; MAE: 0.75888\n",
      "fitting model with shrinkage=1.0\n",
      "Scenario T3: RMSE: 0.96327; MAE: 0.75657\n"
     ]
    }
   ],
   "source": [
    "for scenario in [\"T1\", \"T2a\", \"T2b\", \"T3\"]:\n",
    "    # get train/test data\n",
    "    rating_pairs_train, rating_pairs_test, map_index2userid_train, map_index2movieid_train, map_userid2index_train, map_movieid2index_train = split_traintest(scenario)\n",
    "    for shrinkage in [0., 0.1, 0.5, 0.9, 1.]:\n",
    "        # initalize means model\n",
    "        mmodel = MeansModel(shrinkage)\n",
    "        print(\"fitting model with shrinkage=%.1f\" % shrinkage)\n",
    "        mmodel.fit(tuple_ratings, rating_pairs_train)\n",
    "        # get a vector with target ratings for test tuples\n",
    "        y_true = np.array([tuple_ratings[(m, u)] for (m, u) in rating_pairs_test])\n",
    "        # get the corresponding predictions\n",
    "        y_pred = np.array([mmodel.predict(m, u) for (m, u) in rating_pairs_test])\n",
    "        print(\"Scenario %s: RMSE: %.5f; MAE: %.5f\" % (scenario, np.sqrt(mean_squared_error(y_true, y_pred)), mean_absolute_error(y_true, y_pred)))"
   ]
  },
  {
   "cell_type": "markdown",
   "metadata": {},
   "source": [
    "### Baseline model: SVD of residuals"
   ]
  },
  {
   "cell_type": "code",
   "execution_count": 8,
   "metadata": {
    "ExecuteTime": {
     "end_time": "2018-12-21T22:45:23.468768Z",
     "start_time": "2018-12-21T22:43:05.167988Z"
    }
   },
   "outputs": [
    {
     "name": "stdout",
     "output_type": "stream",
     "text": [
      "generating train/test splits for scenario 'T1'\n",
      "got 6992764 training and 2996900 test ratings\n",
      "computing residuals\n",
      "transforming dict with 6992764 ratings into sparse matrix\n"
     ]
    }
   ],
   "source": [
    "scenario = \"T1\"\n",
    "# get train/test data\n",
    "rating_pairs_train, rating_pairs_test, map_index2userid_train, map_index2movieid_train, map_userid2index_train, map_movieid2index_train = split_traintest(scenario)\n",
    "# initalize and fit means model\n",
    "mmodel = MeansModel()\n",
    "mmodel.fit(tuple_ratings, rating_pairs_train)\n",
    "# get sparse matrix with residuals\n",
    "print(\"computing residuals\")\n",
    "residual_ratings = mmodel.compute_residuals(tuple_ratings, rating_pairs_train)\n",
    "ratings_matrix = make_train_matrix(residual_ratings, rating_pairs_train, map_userid2index_train, map_movieid2index_train)"
   ]
  },
  {
   "cell_type": "code",
   "execution_count": 9,
   "metadata": {
    "ExecuteTime": {
     "end_time": "2018-12-21T22:47:40.095110Z",
     "start_time": "2018-12-21T22:45:23.469944Z"
    }
   },
   "outputs": [
    {
     "data": {
      "text/plain": [
       "Text(0.5,0,'eigenvalue')"
      ]
     },
     "execution_count": 9,
     "metadata": {},
     "output_type": "execute_result"
    },
    {
     "data": {
      "image/png": "[encoded data removed]",
      "text/plain": [
       "<Figure size 432x288 with 1 Axes>"
      ]
     },
     "metadata": {},
     "output_type": "display_data"
    }
   ],
   "source": [
    "# inspect eigenvalues of matrix\n",
    "eigenvals = svds(ratings_matrix, k=1000, return_singular_vectors=False)\n",
    "eigenvals = sorted(eigenvals, reverse=True)\n",
    "plt.figure()\n",
    "plt.plot(list(range(1, len(eigenvals)+1)), eigenvals)\n",
    "plt.xlabel(\"eigenvalue\")"
   ]
  },
  {
   "cell_type": "code",
   "execution_count": 10,
   "metadata": {
    "ExecuteTime": {
     "end_time": "2018-12-21T22:47:52.313934Z",
     "start_time": "2018-12-21T22:47:40.096995Z"
    }
   },
   "outputs": [
    {
     "data": {
      "text/plain": [
       "((10604, 100), (100, 100), (100, 69878))"
      ]
     },
     "execution_count": 10,
     "metadata": {},
     "output_type": "execute_result"
    }
   ],
   "source": [
    "# get eigenvalues and -vectors for some relevant dimensions\n",
    "e_dim = 100\n",
    "U, s, Vh = svds(ratings_matrix, k=e_dim)\n",
    "S = np.zeros((e_dim, e_dim))\n",
    "S = np.diag(s)\n",
    "U.shape, S.shape, Vh.shape"
   ]
  },
  {
   "cell_type": "code",
   "execution_count": 11,
   "metadata": {
    "ExecuteTime": {
     "end_time": "2018-12-21T22:48:23.367703Z",
     "start_time": "2018-12-21T22:47:52.315318Z"
    }
   },
   "outputs": [
    {
     "name": "stdout",
     "output_type": "stream",
     "text": [
      "get approximations\n",
      "get residual ratings\n",
      "predict test ratings\n",
      "Scenario T1: RMSE: 0.85891; MAE: 0.65994\n"
     ]
    }
   ],
   "source": [
    "# construct approximation of residual ratings\n",
    "print(\"get approximations\")\n",
    "temp = np.dot(U, np.dot(S, Vh))\n",
    "# get dict with residuals for missing test ratings\n",
    "print(\"get residual ratings\")\n",
    "residual_ratings_test = {(m, u): temp[map_movieid2index_train[m], map_userid2index_train[u]]\n",
    "                                 for (m, u) in rating_pairs_test}\n",
    "del temp\n",
    "print(\"predict test ratings\")\n",
    "# get a vector with target ratings for test tuples\n",
    "y_true = np.array([tuple_ratings[(m, u)] for (m, u) in rating_pairs_test])\n",
    "# get the corresponding predictions\n",
    "y_pred = np.array([mmodel.predict(m, u, residual_ratings_test) for (m, u) in rating_pairs_test])\n",
    "print(\"Scenario %s: RMSE: %.5f; MAE: %.5f\" % (scenario, np.sqrt(mean_squared_error(y_true, y_pred)), mean_absolute_error(y_true, y_pred)))"
   ]
  },
  {
   "cell_type": "markdown",
   "metadata": {},
   "source": [
    "### SimEc model: identity matrix as input"
   ]
  },
  {
   "cell_type": "code",
   "execution_count": 12,
   "metadata": {
    "ExecuteTime": {
     "end_time": "2018-12-21T22:50:59.716294Z",
     "start_time": "2018-12-21T22:48:23.369319Z"
    }
   },
   "outputs": [
    {
     "name": "stdout",
     "output_type": "stream",
     "text": [
      "Warning: For best results, S (and X) should be normalized (try S /= np.max(np.abs(S))).\n",
      "Epoch 1/20\n",
      "10604/10604 [==============================] - 7s 676us/step - loss: 0.0073\n",
      "Epoch 2/20\n",
      "10604/10604 [==============================] - 6s 562us/step - loss: 0.0073\n",
      "Epoch 3/20\n",
      "10604/10604 [==============================] - 6s 566us/step - loss: 0.0073\n",
      "Epoch 4/20\n",
      "10604/10604 [==============================] - 6s 572us/step - loss: 0.0073\n",
      "Epoch 5/20\n",
      "10604/10604 [==============================] - 6s 568us/step - loss: 0.0073\n",
      "Epoch 6/20\n",
      "10604/10604 [==============================] - 6s 567us/step - loss: 0.0073\n",
      "Epoch 7/20\n",
      "10604/10604 [==============================] - 6s 589us/step - loss: 0.0073\n",
      "Epoch 8/20\n",
      "10604/10604 [==============================] - 6s 599us/step - loss: 0.0073\n",
      "Epoch 9/20\n",
      "10604/10604 [==============================] - 6s 592us/step - loss: 0.0073\n",
      "Epoch 10/20\n",
      "10604/10604 [==============================] - 6s 589us/step - loss: 0.0073\n",
      "Epoch 11/20\n",
      "10604/10604 [==============================] - 6s 599us/step - loss: 0.0073\n",
      "Epoch 12/20\n",
      "10604/10604 [==============================] - 6s 563us/step - loss: 0.0073\n",
      "Epoch 13/20\n",
      "10604/10604 [==============================] - 6s 587us/step - loss: 0.0073\n",
      "Epoch 14/20\n",
      "10604/10604 [==============================] - 6s 582us/step - loss: 0.0073\n",
      "Epoch 15/20\n",
      "10604/10604 [==============================] - 6s 596us/step - loss: 0.0073\n",
      "Epoch 16/20\n",
      "10604/10604 [==============================] - 6s 603us/step - loss: 0.0073\n",
      "Epoch 17/20\n",
      "10604/10604 [==============================] - 6s 598us/step - loss: 0.0073\n",
      "Epoch 18/20\n",
      "10604/10604 [==============================] - 6s 572us/step - loss: 0.0073\n",
      "Epoch 19/20\n",
      "10604/10604 [==============================] - 6s 575us/step - loss: 0.0073\n",
      "Epoch 20/20\n",
      "10604/10604 [==============================] - 6s 576us/step - loss: 0.0073\n",
      "get approximations\n",
      "get residual ratings\n",
      "predict test ratings\n",
      "Scenario T1: RMSE: 0.87724; MAE: 0.67638\n"
     ]
    }
   ],
   "source": [
    "# get a vector with target ratings for test tuples\n",
    "y_true = np.array([tuple_ratings[(m, u)] for (m, u) in rating_pairs_test])\n",
    "# train simec with identiy matrix as input to predict residuals\n",
    "e_dim = 100\n",
    "X = np.eye(ratings_matrix.shape[0], dtype=np.float16)\n",
    "model = SimilarityEncoder(ratings_matrix.shape[0], e_dim, ratings_matrix.shape[1], opt=0.05)\n",
    "model.fit(X, ratings_matrix, epochs=20)\n",
    "print(\"get approximations\")\n",
    "temp = np.array(model.predict(X), dtype=np.float16)\n",
    "# get dict with residuals for missing test ratings\n",
    "print(\"get residual ratings\")\n",
    "residual_ratings_test = {(m, u): temp[map_movieid2index_train[m], map_userid2index_train[u]]\n",
    "                                 for (m, u) in rating_pairs_test}\n",
    "del temp\n",
    "print(\"predict test ratings\")\n",
    "# get the corresponding predictions\n",
    "y_pred = np.array([mmodel.predict(m, u, residual_ratings_test) for (m, u) in rating_pairs_test])\n",
    "print(\"Scenario %s: RMSE: %.5f; MAE: %.5f\" % (scenario, np.sqrt(mean_squared_error(y_true, y_pred)), mean_absolute_error(y_true, y_pred)))"
   ]
  },
  {
   "cell_type": "markdown",
   "metadata": {},
   "source": [
    "### Construct feature vectors for movies"
   ]
  },
  {
   "cell_type": "code",
   "execution_count": 13,
   "metadata": {
    "ExecuteTime": {
     "end_time": "2018-12-21T22:50:59.743783Z",
     "start_time": "2018-12-21T22:50:59.717528Z"
    }
   },
   "outputs": [],
   "source": [
    "def features2mat(movies_data, movieids, feature, featurenames=[]):\n",
    "    if not featurenames:\n",
    "        featurenames = sorted(set(word for m in movieids for word in movies_data[m][feature]))\n",
    "    fnamedict = {feat: i for i, feat in enumerate(featurenames)}\n",
    "    featmat = dok_matrix((len(movieids), len(featurenames)), dtype=np.float16)\n",
    "    for i, m in enumerate(movieids):\n",
    "        for word in movies_data[m][feature]:\n",
    "            try:\n",
    "                featmat[i, fnamedict[word]] = 1.\n",
    "            except KeyError:\n",
    "                pass\n",
    "    featmat = csr_matrix(featmat)\n",
    "    return featmat, featurenames\n",
    "\n",
    "def get_features_mats(movieids_train, movieids_test):\n",
    "    featurenames = []\n",
    "    genres_mat_train, genres_names = features2mat(movies_data, movieids_train, \"genres\")\n",
    "    featurenames.extend(genres_names)\n",
    "    genres_mat_test, _ = features2mat(movies_data, movieids_test, \"genres\", genres_names)\n",
    "    keywords_mat_train, keywords_names = features2mat(movies_data, movieids_train, \"keywords\")\n",
    "    featurenames.extend(keywords_names)\n",
    "    keywords_mat_test, _ = features2mat(movies_data, movieids_test, \"keywords\", keywords_names)\n",
    "    directors_mat_train, directors_names = features2mat(movies_data, movieids_train, \"directors\")\n",
    "    featurenames.extend(directors_names)\n",
    "    directors_mat_test, _ = features2mat(movies_data, movieids_test, \"directors\", directors_names)\n",
    "    feat_mat_train = hstack([genres_mat_train, keywords_mat_train, directors_mat_train], format=\"csr\", dtype=np.float16)\n",
    "    feat_mat_test = hstack([genres_mat_test, keywords_mat_test, directors_mat_test], format=\"csr\", dtype=np.float16)\n",
    "    return feat_mat_train, feat_mat_test, featurenames"
   ]
  },
  {
   "cell_type": "markdown",
   "metadata": {},
   "source": [
    "### Baseline model: SVD of residuals with regression"
   ]
  },
  {
   "cell_type": "code",
   "execution_count": 14,
   "metadata": {
    "ExecuteTime": {
     "end_time": "2018-12-21T22:54:04.942278Z",
     "start_time": "2018-12-21T22:50:59.745721Z"
    }
   },
   "outputs": [
    {
     "name": "stdout",
     "output_type": "stream",
     "text": [
      "generating train/test splits for scenario 'T1'\n",
      "got 6992764 training and 2996900 test ratings\n",
      "computing residuals\n",
      "transforming dict with 6992764 ratings into sparse matrix\n",
      "train regression model\n",
      "get approximations\n",
      "get residual ratings\n",
      "predict test ratings\n",
      "Scenario T1: RMSE: 0.88014; MAE: 0.67895\n"
     ]
    }
   ],
   "source": [
    "## for T1 same scenario as above\n",
    "scenario = \"T1\"\n",
    "# get train/test data\n",
    "rating_pairs_train, rating_pairs_test, map_index2userid_train, map_index2movieid_train, map_userid2index_train, map_movieid2index_train = split_traintest(scenario)\n",
    "# train and test movies are the same, i.e., no unknown movies\n",
    "feat_mat_train, _, _ = get_features_mats(map_index2movieid_train, [])\n",
    "# initalize and fit means model\n",
    "mmodel = MeansModel()\n",
    "mmodel.fit(tuple_ratings, rating_pairs_train)\n",
    "# get sparse matrix with residuals\n",
    "print(\"computing residuals\")\n",
    "residual_ratings = mmodel.compute_residuals(tuple_ratings, rating_pairs_train)\n",
    "ratings_matrix = make_train_matrix(residual_ratings, rating_pairs_train, map_userid2index_train, map_movieid2index_train)\n",
    "# get eigenvalues and -vectors for some relevant dimensions\n",
    "e_dim = 100\n",
    "U, s, Vh = svds(ratings_matrix, k=e_dim)\n",
    "S = np.zeros((e_dim, e_dim))\n",
    "S = np.diag(s)\n",
    "# train regression model to map from feat_mat to U\n",
    "print(\"train regression model\")\n",
    "alpha = 250.  # None to do grid search\n",
    "if alpha is None:\n",
    "    m = rreg()\n",
    "    rrm = GridSearchCV(m, {'alpha': [0.01, 0.1, 0.25, 0.5, 0.75, 1., 2.5 , 5., 7.5, 10., 25., 50., 75., 100., 250., 500., 750., 1000.]})\n",
    "    rrm.fit(feat_mat_train, U)\n",
    "    print(\"best alpha: \", rrm.best_params_)\n",
    "else:\n",
    "    rrm = rreg(alpha=alpha)\n",
    "    rrm.fit(feat_mat_train, U)\n",
    "U_pred = rrm.predict(feat_mat_train)\n",
    "# construct approximation of residual ratings\n",
    "print(\"get approximations\")\n",
    "temp = np.dot(U_pred, np.dot(S, Vh))\n",
    "# get dict with residuals for missing test ratings\n",
    "print(\"get residual ratings\")\n",
    "residual_ratings_test = {(m, u): temp[map_movieid2index_train[m], map_userid2index_train[u]]\n",
    "                                 for (m, u) in rating_pairs_test}\n",
    "del temp\n",
    "print(\"predict test ratings\")\n",
    "# get a vector with target ratings for test tuples\n",
    "y_true = np.array([tuple_ratings[(m, u)] for (m, u) in rating_pairs_test])\n",
    "# get the corresponding predictions\n",
    "y_pred = np.array([mmodel.predict(m, u, residual_ratings_test) for (m, u) in rating_pairs_test])\n",
    "print(\"Scenario %s: RMSE: %.5f; MAE: %.5f\" % (scenario, np.sqrt(mean_squared_error(y_true, y_pred)), mean_absolute_error(y_true, y_pred)))"
   ]
  },
  {
   "cell_type": "code",
   "execution_count": 15,
   "metadata": {
    "ExecuteTime": {
     "end_time": "2018-12-21T22:56:43.761042Z",
     "start_time": "2018-12-21T22:54:04.943564Z"
    }
   },
   "outputs": [
    {
     "name": "stdout",
     "output_type": "stream",
     "text": [
      "generating train/test splits for scenario 'T2a'\n",
      "got 7064138 training and 2925526 test ratings\n",
      "computing residuals\n",
      "transforming dict with 7064138 ratings into sparse matrix\n",
      "train regression model\n"
     ]
    },
    {
     "name": "stderr",
     "output_type": "stream",
     "text": [
      "/home/franzi/anaconda3/lib/python3.6/site-packages/numpy/core/_methods.py:32: RuntimeWarning: overflow encountered in reduce\n",
      "  return umr_sum(a, axis, dtype, out, keepdims)\n"
     ]
    },
    {
     "name": "stdout",
     "output_type": "stream",
     "text": [
      "get approximations\n",
      "get residual ratings\n",
      "predict test ratings\n",
      "Scenario T2a: RMSE: 0.97332; MAE: 0.76108\n"
     ]
    }
   ],
   "source": [
    "scenario = \"T2a\"\n",
    "# get train/test data\n",
    "rating_pairs_train, rating_pairs_test, map_index2userid_train, map_index2movieid_train, map_userid2index_train, map_movieid2index_train = split_traintest(scenario)\n",
    "movieids_test = sorted(set(m for (m, u) in rating_pairs_test if m not in map_movieid2index_train))\n",
    "map_movieid2index_all = {m : i for i, m in enumerate(movieids_test, len(map_movieid2index_train))}\n",
    "map_movieid2index_all.update(map_movieid2index_train)\n",
    "feat_mat_train, feat_mat_test, _ = get_features_mats(map_index2movieid_train, movieids_test)\n",
    "# initalize and fit means model\n",
    "mmodel = MeansModel()\n",
    "mmodel.fit(tuple_ratings, rating_pairs_train)\n",
    "# get sparse matrix with residuals\n",
    "print(\"computing residuals\")\n",
    "residual_ratings = mmodel.compute_residuals(tuple_ratings, rating_pairs_train)\n",
    "ratings_matrix = make_train_matrix(residual_ratings, rating_pairs_train, map_userid2index_train, map_movieid2index_train)\n",
    "# get eigenvalues and -vectors for some relevant dimensions\n",
    "e_dim = 100\n",
    "U, s, Vh = svds(ratings_matrix, k=e_dim)\n",
    "S = np.zeros((e_dim, e_dim))\n",
    "S = np.diag(s)\n",
    "# train regression model to map from feat_mat to U\n",
    "print(\"train regression model\")\n",
    "rrm = rreg(alpha=250.)\n",
    "rrm.fit(feat_mat_train, U)\n",
    "# stack train and test feature matrices to make predictions for all\n",
    "feat_mat_all = vstack([feat_mat_train, feat_mat_test], format=\"csr\", dtype=np.float16)\n",
    "del feat_mat_train, feat_mat_test\n",
    "U_pred = rrm.predict(feat_mat_all)\n",
    "# construct approximation of residual ratings\n",
    "print(\"get approximations\")\n",
    "temp = np.dot(U_pred, np.dot(S, Vh))\n",
    "# get dict with residuals for missing test ratings\n",
    "print(\"get residual ratings\")\n",
    "residual_ratings_test = {(m, u): temp[map_movieid2index_all[m], map_userid2index_train[u]]\n",
    "                                 for (m, u) in rating_pairs_test}\n",
    "del temp\n",
    "print(\"predict test ratings\")\n",
    "# get a vector with target ratings for test tuples\n",
    "y_true = np.array([tuple_ratings[(m, u)] for (m, u) in rating_pairs_test])\n",
    "# get the corresponding predictions\n",
    "y_pred = np.array([mmodel.predict(m, u, residual_ratings_test) for (m, u) in rating_pairs_test])\n",
    "print(\"Scenario %s: RMSE: %.5f; MAE: %.5f\" % (scenario, np.sqrt(mean_squared_error(y_true, y_pred)), mean_absolute_error(y_true, y_pred)))"
   ]
  },
  {
   "cell_type": "markdown",
   "metadata": {},
   "source": [
    "### SimEc model: feature matrix as input"
   ]
  },
  {
   "cell_type": "code",
   "execution_count": 16,
   "metadata": {
    "ExecuteTime": {
     "end_time": "2018-12-21T23:01:46.833810Z",
     "start_time": "2018-12-21T22:56:43.762912Z"
    }
   },
   "outputs": [
    {
     "name": "stdout",
     "output_type": "stream",
     "text": [
      "generating train/test splits for scenario 'T1'\n",
      "got 6992764 training and 2996900 test ratings\n",
      "computing residuals\n",
      "transforming dict with 6992764 ratings into sparse matrix\n",
      "Warning: For best results, S (and X) should be normalized (try S /= np.max(np.abs(S))).\n",
      "Epoch 1/20\n",
      "10604/10604 [==============================] - 7s 651us/step - loss: 0.0073\n",
      "Epoch 2/20\n",
      "10604/10604 [==============================] - 6s 597us/step - loss: 0.0072\n",
      "Epoch 3/20\n",
      "10604/10604 [==============================] - 7s 615us/step - loss: 0.0072\n",
      "Epoch 4/20\n",
      "10604/10604 [==============================] - 6s 592us/step - loss: 0.0072\n",
      "Epoch 5/20\n",
      "10604/10604 [==============================] - 6s 578us/step - loss: 0.0072\n",
      "Epoch 6/20\n",
      "10604/10604 [==============================] - 6s 598us/step - loss: 0.0072\n",
      "Epoch 7/20\n",
      "10604/10604 [==============================] - 6s 610us/step - loss: 0.0072\n",
      "Epoch 8/20\n",
      "10604/10604 [==============================] - 6s 586us/step - loss: 0.0072\n",
      "Epoch 9/20\n",
      "10604/10604 [==============================] - 6s 595us/step - loss: 0.0072\n",
      "Epoch 10/20\n",
      "10604/10604 [==============================] - 7s 621us/step - loss: 0.0072\n",
      "Epoch 11/20\n",
      "10604/10604 [==============================] - 6s 606us/step - loss: 0.0072\n",
      "Epoch 12/20\n",
      "10604/10604 [==============================] - 6s 586us/step - loss: 0.0072\n",
      "Epoch 13/20\n",
      "10604/10604 [==============================] - 6s 594us/step - loss: 0.0072\n",
      "Epoch 14/20\n",
      "10604/10604 [==============================] - 6s 582us/step - loss: 0.0071\n",
      "Epoch 15/20\n",
      "10604/10604 [==============================] - 6s 601us/step - loss: 0.0071\n",
      "Epoch 16/20\n",
      "10604/10604 [==============================] - 7s 613us/step - loss: 0.0071\n",
      "Epoch 17/20\n",
      "10604/10604 [==============================] - 6s 604us/step - loss: 0.0071\n",
      "Epoch 18/20\n",
      "10604/10604 [==============================] - 6s 578us/step - loss: 0.0071\n",
      "Epoch 19/20\n",
      "10604/10604 [==============================] - 6s 595us/step - loss: 0.0071\n",
      "Epoch 20/20\n",
      "10604/10604 [==============================] - 6s 596us/step - loss: 0.0071\n",
      "get approximations\n",
      "get residual ratings\n",
      "predict test ratings\n",
      "Scenario T1: RMSE: 0.86800; MAE: 0.66842\n"
     ]
    }
   ],
   "source": [
    "## for T1 same scenario as above\n",
    "scenario = \"T1\"\n",
    "# get train/test data\n",
    "rating_pairs_train, rating_pairs_test, map_index2userid_train, map_index2movieid_train, map_userid2index_train, map_movieid2index_train = split_traintest(scenario)\n",
    "# train and test movies are the same, i.e., no unknown movies\n",
    "feat_mat_train, _, _ = get_features_mats(map_index2movieid_train, [])\n",
    "# initalize and fit means model\n",
    "mmodel = MeansModel()\n",
    "mmodel.fit(tuple_ratings, rating_pairs_train)\n",
    "# get sparse matrix with residuals\n",
    "print(\"computing residuals\")\n",
    "residual_ratings = mmodel.compute_residuals(tuple_ratings, rating_pairs_train)\n",
    "ratings_matrix = make_train_matrix(residual_ratings, rating_pairs_train, map_userid2index_train, map_movieid2index_train)\n",
    "# get a vector with target ratings for test tuples\n",
    "y_true = np.array([tuple_ratings[(m, u)] for (m, u) in rating_pairs_test])\n",
    "# train simec with identiy matrix as input to predict residuals\n",
    "e_dim = 100\n",
    "model = SimilarityEncoder(feat_mat_train.shape[1], e_dim, ratings_matrix.shape[1], sparse_inputs=True,\n",
    "                          opt=0.0075)\n",
    "model.fit(feat_mat_train, ratings_matrix, epochs=20)\n",
    "print(\"get approximations\")\n",
    "temp = np.array(model.predict(feat_mat_train), dtype=np.float16)\n",
    "# get dict with residuals for missing test ratings\n",
    "print(\"get residual ratings\")\n",
    "residual_ratings_test = {(m, u): temp[map_movieid2index_train[m], map_userid2index_train[u]]\n",
    "                                 for (m, u) in rating_pairs_test}\n",
    "del temp\n",
    "print(\"predict test ratings\")\n",
    "# get the corresponding predictions\n",
    "y_pred = np.array([mmodel.predict(m, u, residual_ratings_test) for (m, u) in rating_pairs_test])\n",
    "print(\"Scenario %s: RMSE: %.5f; MAE: %.5f\" % (scenario, np.sqrt(mean_squared_error(y_true, y_pred)), mean_absolute_error(y_true, y_pred)))"
   ]
  },
  {
   "cell_type": "code",
   "execution_count": 17,
   "metadata": {
    "ExecuteTime": {
     "end_time": "2018-12-21T23:05:43.315023Z",
     "start_time": "2018-12-21T23:01:46.837531Z"
    }
   },
   "outputs": [
    {
     "name": "stdout",
     "output_type": "stream",
     "text": [
      "generating train/test splits for scenario 'T2a'\n",
      "got 7064138 training and 2925526 test ratings\n",
      "computing residuals\n",
      "transforming dict with 7064138 ratings into sparse matrix\n",
      "Warning: For best results, S (and X) should be normalized (try S /= np.max(np.abs(S))).\n",
      "Epoch 1/20\n",
      "7422/7422 [==============================] - 5s 652us/step - loss: 0.0105\n",
      "Epoch 2/20\n",
      "7422/7422 [==============================] - 4s 585us/step - loss: 0.0104\n",
      "Epoch 3/20\n",
      "7422/7422 [==============================] - 4s 572us/step - loss: 0.0104\n",
      "Epoch 4/20\n",
      "7422/7422 [==============================] - 4s 569us/step - loss: 0.0103\n",
      "Epoch 5/20\n",
      "7422/7422 [==============================] - 4s 595us/step - loss: 0.0103\n",
      "Epoch 6/20\n",
      "7422/7422 [==============================] - 4s 566us/step - loss: 0.0102\n",
      "Epoch 7/20\n",
      "7422/7422 [==============================] - 4s 583us/step - loss: 0.0102\n",
      "Epoch 8/20\n",
      "7422/7422 [==============================] - 4s 596us/step - loss: 0.0102\n",
      "Epoch 9/20\n",
      "7422/7422 [==============================] - 4s 594us/step - loss: 0.0101\n",
      "Epoch 10/20\n",
      "7422/7422 [==============================] - 5s 609us/step - loss: 0.0101\n",
      "Epoch 11/20\n",
      "7422/7422 [==============================] - 4s 604us/step - loss: 0.0101\n",
      "Epoch 12/20\n",
      "7422/7422 [==============================] - 4s 586us/step - loss: 0.0100\n",
      "Epoch 13/20\n",
      "7422/7422 [==============================] - 4s 597us/step - loss: 0.0100\n",
      "Epoch 14/20\n",
      "7422/7422 [==============================] - 4s 582us/step - loss: 0.0099\n",
      "Epoch 15/20\n",
      "7422/7422 [==============================] - 5s 607us/step - loss: 0.0099\n",
      "Epoch 16/20\n",
      "7422/7422 [==============================] - 4s 595us/step - loss: 0.0099\n",
      "Epoch 17/20\n",
      "7422/7422 [==============================] - 4s 602us/step - loss: 0.0098\n",
      "Epoch 18/20\n",
      "7422/7422 [==============================] - 4s 594us/step - loss: 0.0098\n",
      "Epoch 19/20\n",
      "7422/7422 [==============================] - 4s 586us/step - loss: 0.0097\n",
      "Epoch 20/20\n",
      "7422/7422 [==============================] - 4s 587us/step - loss: 0.0097\n",
      "get approximations\n",
      "get residual ratings\n",
      "predict test ratings\n",
      "Scenario T2a: RMSE: 0.96897; MAE: 0.75745\n"
     ]
    }
   ],
   "source": [
    "scenario = \"T2a\"\n",
    "# get train/test data\n",
    "rating_pairs_train, rating_pairs_test, map_index2userid_train, map_index2movieid_train, map_userid2index_train, map_movieid2index_train = split_traintest(scenario)\n",
    "movieids_test = sorted(set(m for (m, u) in rating_pairs_test if m not in map_movieid2index_train))\n",
    "map_movieid2index_all = {m : i for i, m in enumerate(movieids_test, len(map_movieid2index_train))}\n",
    "map_movieid2index_all.update(map_movieid2index_train)\n",
    "feat_mat_train, feat_mat_test, _ = get_features_mats(map_index2movieid_train, movieids_test)\n",
    "# stack train and test feature matrices to make predictions for all\n",
    "feat_mat_all = vstack([feat_mat_train, feat_mat_test], format=\"csr\", dtype=np.float16)\n",
    "del feat_mat_test\n",
    "# initalize and fit means model\n",
    "mmodel = MeansModel()\n",
    "mmodel.fit(tuple_ratings, rating_pairs_train)\n",
    "# get sparse matrix with residuals\n",
    "print(\"computing residuals\")\n",
    "residual_ratings = mmodel.compute_residuals(tuple_ratings, rating_pairs_train)\n",
    "ratings_matrix = make_train_matrix(residual_ratings, rating_pairs_train, map_userid2index_train, map_movieid2index_train)\n",
    "# get a vector with target ratings for test tuples\n",
    "y_true = np.array([tuple_ratings[(m, u)] for (m, u) in rating_pairs_test])\n",
    "# train simec with identiy matrix as input to predict residuals\n",
    "e_dim = 100\n",
    "model = SimilarityEncoder(feat_mat_train.shape[1], e_dim, ratings_matrix.shape[1], sparse_inputs=True,\n",
    "                          opt=0.005)\n",
    "model.fit(feat_mat_train, ratings_matrix, epochs=20)\n",
    "print(\"get approximations\")\n",
    "temp = np.array(model.predict(feat_mat_all), dtype=np.float16)\n",
    "# get dict with residuals for missing test ratings\n",
    "print(\"get residual ratings\")\n",
    "residual_ratings_test = {(m, u): temp[map_movieid2index_all[m], map_userid2index_train[u]]\n",
    "                                 for (m, u) in rating_pairs_test}\n",
    "del temp\n",
    "print(\"predict test ratings\")\n",
    "# get the corresponding predictions\n",
    "y_pred = np.array([mmodel.predict(m, u, residual_ratings_test) for (m, u) in rating_pairs_test])\n",
    "print(\"Scenario %s: RMSE: %.5f; MAE: %.5f\" % (scenario, np.sqrt(mean_squared_error(y_true, y_pred)), mean_absolute_error(y_true, y_pred)))"
   ]
  },
  {
   "cell_type": "markdown",
   "metadata": {},
   "source": [
    "## Interpretation of ratings\n",
    "\n",
    "In addition to accurately predicting a user's rating for a certain item and therefore generating valuable recommendations, it might also be interesting to understand _why_ a user might like a certain item. For this, we can use [_layerwise relevance propagation_](http://heatmapping.org/) to identify the features of an item that most contributed to a positive or negative predicted rating."
   ]
  },
  {
   "cell_type": "code",
   "execution_count": 18,
   "metadata": {
    "ExecuteTime": {
     "end_time": "2018-12-21T23:09:13.244883Z",
     "start_time": "2018-12-21T23:05:43.316661Z"
    }
   },
   "outputs": [
    {
     "name": "stdout",
     "output_type": "stream",
     "text": [
      "generating train/test splits for scenario 'T1'\n",
      "got 6992764 training and 2996900 test ratings\n",
      "computing residuals\n",
      "transforming dict with 9989664 ratings into sparse matrix\n"
     ]
    }
   ],
   "source": [
    "# get all the ratings\n",
    "rating_pairs_train, rating_pairs_test, map_index2userid_train, map_index2movieid_train, map_userid2index_train, map_movieid2index_train = split_traintest(\"T1\")\n",
    "rating_pairs_train, rating_pairs_test = list(rating_pairs_train), list(rating_pairs_test)\n",
    "rating_pairs_train.extend(rating_pairs_test)\n",
    "feat_mat_train, _, featurenames = get_features_mats(map_index2movieid_train, [])\n",
    "# initalize and fit means model\n",
    "mmodel = MeansModel()\n",
    "mmodel.fit(tuple_ratings, rating_pairs_train)\n",
    "# get sparse matrix with residuals\n",
    "print(\"computing residuals\")\n",
    "residual_ratings = mmodel.compute_residuals(tuple_ratings, rating_pairs_train)\n",
    "ratings_matrix = make_train_matrix(residual_ratings, rating_pairs_train, map_userid2index_train, map_movieid2index_train)\n",
    "# get dense ratings matrix with missing values = -100\n",
    "# R = -100*np.ones(ratings_matrix.shape, dtype=np.float16)\n",
    "# R[ratings_matrix.nonzero()] = ratings_matrix[ratings_matrix.nonzero()]\n",
    "# train simec with identiy matrix as input to predict residuals"
   ]
  },
  {
   "cell_type": "code",
   "execution_count": 19,
   "metadata": {
    "ExecuteTime": {
     "end_time": "2018-12-21T23:09:13.274540Z",
     "start_time": "2018-12-21T23:09:13.246198Z"
    }
   },
   "outputs": [
    {
     "name": "stdout",
     "output_type": "stream",
     "text": [
      "1115 The Sleepover\n",
      "4996 Little Otik\n",
      "5478 Eight Legged Freaks\n",
      "5837 Legion of the Dead\n",
      "5909 Visitor Q\n",
      "6755 Bubba Ho-tep\n",
      "7202 Beyond Re-Animator\n",
      "7266 The Lost Skeleton of Cadavra\n",
      "7319 Club Dread\n",
      "7846 Tremors 3: Back to Perfection\n",
      "8258 Citizen Toxie: The Toxic Avenger IV\n",
      "8578 Undead\n",
      "8874 Shaun of the Dead\n",
      "27563 The Happiness of the Katakuris\n",
      "32011 Cursed\n",
      "32239 Save the Green Planet!\n",
      "32314 Incident at Loch Ness\n",
      "44777 Evil Aliens\n",
      "44828 Slither\n",
      "47937 Severance\n",
      "48231 Taxidermia\n",
      "48678 Feast\n",
      "51498 2001 Maniacs\n",
      "53468 Fido\n",
      "54910 Behind the Mask: The Rise of Leslie Vernon\n",
      "55553 Black Sheep\n",
      "57910 Teeth\n",
      "60044 Baghead\n",
      "60363 Zombie Strippers!\n",
      "60522 The Machine Girl\n",
      "62008 Dead Fury\n",
      "62788 Lost Boys: The Tribe\n"
     ]
    }
   ],
   "source": [
    "# select an interesting movies that appeals to different kinds of audiences\n",
    "# e.g. 8874 Shaun of the Dead\n",
    "for mid in movies_data:\n",
    "    if \"Comedy\" in movies_data[mid][\"genres\"] and \"Horror\" in movies_data[mid][\"genres\"] and movies_data[mid][\"year\"] > \"2000\":\n",
    "        print(mid, movies_data[mid][\"title\"])"
   ]
  },
  {
   "cell_type": "code",
   "execution_count": 20,
   "metadata": {
    "ExecuteTime": {
     "end_time": "2018-12-21T23:09:15.288204Z",
     "start_time": "2018-12-21T23:09:13.276215Z"
    }
   },
   "outputs": [
    {
     "name": "stdout",
     "output_type": "stream",
     "text": [
      "3817 4159\n",
      "14134 2750\n",
      "38928 2552\n",
      "43992 2444\n",
      "67542 2333\n",
      "33399 2257\n",
      "55005 2176\n",
      "57481 2129\n",
      "69714 1863\n",
      "63905 1804\n",
      "6845 1662\n",
      "54922 1582\n",
      "3810 1560\n",
      "36827 1512\n",
      "9181 1473\n",
      "44041 1406\n",
      "37412 1396\n",
      "9139 1381\n",
      "12367 1361\n",
      "23988 1333\n",
      "48717 1291\n",
      "19111 1205\n",
      "28855 1195\n",
      "35015 1191\n",
      "18870 1125\n",
      "42242 1121\n",
      "27313 1088\n",
      "34324 1077\n",
      "70116 1076\n",
      "59934 1051\n",
      "35779 1047\n",
      "3171 1028\n",
      "32501 1013\n",
      "41130 1005\n"
     ]
    }
   ],
   "source": [
    "# check which users have given the movie a 5 star rating \n",
    "users = {}\n",
    "for (m, u) in tuple_ratings:\n",
    "    if m == \"8874\" and tuple_ratings[(m, u)] >= 5. and residual_ratings[(m, u)] >= 1.:\n",
    "        users[u] = 0\n",
    "# sort these users by the most ratings\n",
    "for (m, u) in tuple_ratings:\n",
    "    if u in users:\n",
    "        users[u] += 1\n",
    "for u in sorted(users, key=users.get, reverse=True):\n",
    "    if users[u] > 1000:\n",
    "        print(u, users[u])\n",
    "    else:\n",
    "        break"
   ]
  },
  {
   "cell_type": "code",
   "execution_count": 21,
   "metadata": {
    "ExecuteTime": {
     "end_time": "2018-12-21T23:09:17.019087Z",
     "start_time": "2018-12-21T23:09:15.290251Z"
    }
   },
   "outputs": [
    {
     "name": "stdout",
     "output_type": "stream",
     "text": [
      "3817 1984 2.5422939267471487 Halloween III: Season of the Witch ['Horror', 'Mystery', 'Science Fiction']\n",
      "3817 3973 2.4734053932297706 Book of Shadows: Blair Witch 2 ['Mystery', 'Thriller', 'Horror']\n",
      "3817 1981 2.1731847712586183 Friday the 13th Part VIII: Jason Takes Manhattan ['Horror', 'Thriller']\n",
      "3817 3024 2.124114605600765 Piranha ['Horror', 'Thriller', 'Science Fiction', 'Comedy']\n",
      "3817 3564 2.0833480091834837 The Flintstones in Viva Rock Vegas ['Science Fiction', 'Comedy', 'Family', 'Romance']\n",
      "3817 6872 2.078144878980354 House of the Dead ['Horror', 'Action', 'Thriller']\n",
      "3817 4388 2.038376940429229 Scary Movie 2 ['Comedy']\n",
      "3817 1891 1.9651718305234342 The Ugly ['Horror', 'Thriller']\n",
      "3817 2907 1.922202662817143 Superstar ['Comedy', 'Family']\n",
      "3817 5585 1.8453051479856413 Ernest Scared Stupid ['Horror', 'Comedy', 'Family']\n",
      "\n",
      "Action 15\n",
      "Adventure 11\n",
      "Comedy 41\n",
      "Crime 8\n",
      "Documentary 4\n",
      "Drama 24\n",
      "Family 9\n",
      "Fantasy 3\n",
      "History 2\n",
      "Horror 51\n",
      "Music 1\n",
      "Mystery 13\n",
      "Romance 16\n",
      "Science Fiction 17\n",
      "Thriller 36\n",
      "War 2\n",
      "\n",
      "\n",
      "\n",
      "54922 2163 2.401613780913019 Attack of the Killer Tomatoes! ['Comedy', 'Horror', 'Science Fiction']\n",
      "54922 5303 2.148589861486617 Joe Versus the Volcano ['Comedy', 'Romance']\n",
      "54922 7104 2.1312929126254225 1941 ['Comedy']\n",
      "54922 2123 2.059386558110372 All Dogs Go to Heaven ['Drama', 'Animation', 'Family', 'Comedy', 'Fantasy']\n",
      "54922 3689 1.9206702020027118 Porky's II: The Next Day ['Comedy']\n",
      "54922 7367 1.8938075682812312 The Ladykillers ['Comedy', 'Crime', 'Thriller']\n",
      "54922 2826 1.8764928154082634 The 13th Warrior ['Action', 'Adventure', 'Fantasy']\n",
      "54922 52722 1.873172918274114 Spider-Man 3 ['Fantasy', 'Action', 'Adventure']\n",
      "54922 1030 1.8650212279811686 Pete's Dragon ['Fantasy', 'Animation', 'Comedy', 'Family']\n",
      "54922 2053 1.8584703941256704 Honey I Blew Up the Kid ['Adventure', 'Comedy', 'Family', 'Science Fiction']\n",
      "\n",
      "Action 12\n",
      "Adventure 19\n",
      "Animation 10\n",
      "Comedy 61\n",
      "Crime 8\n",
      "Drama 36\n",
      "Family 23\n",
      "Fantasy 30\n",
      "History 1\n",
      "Horror 12\n",
      "Music 6\n",
      "Mystery 12\n",
      "Romance 27\n",
      "Science Fiction 15\n",
      "Thriller 16\n",
      "Western 2\n",
      "\n",
      "\n",
      "\n"
     ]
    }
   ],
   "source": [
    "# get the top 10 movies (based on residual ratings) for our selected users\n",
    "users_of_interest = [\"3817\", \"54922\"]\n",
    "user_ratings = {u: {} for u in users_of_interest}\n",
    "for (m, u) in residual_ratings:\n",
    "    if u in users_of_interest:\n",
    "        user_ratings[u][m] = residual_ratings[(m, u)]\n",
    "for u in users_of_interest:\n",
    "    top_genres = []\n",
    "    for i, m in enumerate(sorted(user_ratings[u], key=user_ratings[u].get, reverse=True)[:100]):\n",
    "        if i < 10:\n",
    "            print(u, m, residual_ratings[(m, u)], movies_data[m][\"title\"], movies_data[m][\"genres\"])\n",
    "        top_genres.extend(movies_data[m][\"genres\"])\n",
    "    print()\n",
    "    top_genres = Counter(top_genres)\n",
    "    for g in sorted(top_genres):\n",
    "        print(g, top_genres[g])\n",
    "    print(\"\\n\\n\")"
   ]
  },
  {
   "cell_type": "code",
   "execution_count": 22,
   "metadata": {
    "ExecuteTime": {
     "end_time": "2018-12-21T23:09:19.718579Z",
     "start_time": "2018-12-21T23:09:17.027899Z"
    }
   },
   "outputs": [
    {
     "name": "stdout",
     "output_type": "stream",
     "text": [
      "69878 1063\n"
     ]
    }
   ],
   "source": [
    "## get only users with more than 900 ratings (~ 1000 targets)\n",
    "user_ratings = {u: [] for u in map_userid2index_train}\n",
    "for (m, u) in tuple_ratings:\n",
    "    user_ratings[u].append(m)\n",
    "user1000_idx = sorted([map_userid2index_train[u] for u in user_ratings if len(user_ratings[u]) >= 900])\n",
    "print(len(map_userid2index_train), len(user1000_idx))"
   ]
  },
  {
   "cell_type": "code",
   "execution_count": 23,
   "metadata": {
    "ExecuteTime": {
     "end_time": "2018-12-21T23:12:03.643627Z",
     "start_time": "2018-12-21T23:09:19.720398Z"
    },
    "scrolled": true
   },
   "outputs": [
    {
     "name": "stdout",
     "output_type": "stream",
     "text": [
      "Epoch 1/100\n",
      "10604/10604 [==============================] - 2s 190us/step - loss: 0.0874\n",
      "Epoch 2/100\n",
      "10604/10604 [==============================] - 2s 147us/step - loss: 0.0842\n",
      "Epoch 3/100\n",
      "10604/10604 [==============================] - 2s 147us/step - loss: 0.0820\n",
      "Epoch 4/100\n",
      "10604/10604 [==============================] - 2s 158us/step - loss: 0.0802\n",
      "Epoch 5/100\n",
      "10604/10604 [==============================] - 2s 153us/step - loss: 0.0788\n",
      "Epoch 6/100\n",
      "10604/10604 [==============================] - 2s 155us/step - loss: 0.0775\n",
      "Epoch 7/100\n",
      "10604/10604 [==============================] - 2s 153us/step - loss: 0.0763\n",
      "Epoch 8/100\n",
      "10604/10604 [==============================] - 2s 157us/step - loss: 0.0753\n",
      "Epoch 9/100\n",
      "10604/10604 [==============================] - 2s 160us/step - loss: 0.0744\n",
      "Epoch 10/100\n",
      "10604/10604 [==============================] - 2s 161us/step - loss: 0.0736\n",
      "Epoch 11/100\n",
      "10604/10604 [==============================] - 2s 154us/step - loss: 0.0729\n",
      "Epoch 12/100\n",
      "10604/10604 [==============================] - 2s 157us/step - loss: 0.0723\n",
      "Epoch 13/100\n",
      "10604/10604 [==============================] - 2s 152us/step - loss: 0.0717\n",
      "Epoch 14/100\n",
      "10604/10604 [==============================] - 2s 157us/step - loss: 0.0712\n",
      "Epoch 15/100\n",
      "10604/10604 [==============================] - 2s 160us/step - loss: 0.0708\n",
      "Epoch 16/100\n",
      "10604/10604 [==============================] - 2s 159us/step - loss: 0.0704\n",
      "Epoch 17/100\n",
      "10604/10604 [==============================] - 2s 167us/step - loss: 0.0700\n",
      "Epoch 18/100\n",
      "10604/10604 [==============================] - 2s 160us/step - loss: 0.0697\n",
      "Epoch 19/100\n",
      "10604/10604 [==============================] - 2s 156us/step - loss: 0.0694\n",
      "Epoch 20/100\n",
      "10604/10604 [==============================] - 2s 158us/step - loss: 0.0692\n",
      "Epoch 21/100\n",
      "10604/10604 [==============================] - 2s 153us/step - loss: 0.0689\n",
      "Epoch 22/100\n",
      "10604/10604 [==============================] - 2s 151us/step - loss: 0.0687\n",
      "Epoch 23/100\n",
      "10604/10604 [==============================] - 2s 150us/step - loss: 0.0685\n",
      "Epoch 24/100\n",
      "10604/10604 [==============================] - 2s 156us/step - loss: 0.0683\n",
      "Epoch 25/100\n",
      "10604/10604 [==============================] - 2s 156us/step - loss: 0.0682\n",
      "Epoch 26/100\n",
      "10604/10604 [==============================] - 2s 160us/step - loss: 0.0679\n",
      "Epoch 27/100\n",
      "10604/10604 [==============================] - 2s 152us/step - loss: 0.0678\n",
      "Epoch 28/100\n",
      "10604/10604 [==============================] - 2s 150us/step - loss: 0.0677\n",
      "Epoch 29/100\n",
      "10604/10604 [==============================] - 2s 162us/step - loss: 0.0676\n",
      "Epoch 30/100\n",
      "10604/10604 [==============================] - 2s 156us/step - loss: 0.0675\n",
      "Epoch 31/100\n",
      "10604/10604 [==============================] - 2s 154us/step - loss: 0.0674\n",
      "Epoch 32/100\n",
      "10604/10604 [==============================] - 2s 150us/step - loss: 0.0673\n",
      "Epoch 33/100\n",
      "10604/10604 [==============================] - 2s 147us/step - loss: 0.0672\n",
      "Epoch 34/100\n",
      "10604/10604 [==============================] - 2s 144us/step - loss: 0.0671\n",
      "Epoch 35/100\n",
      "10604/10604 [==============================] - 2s 143us/step - loss: 0.0670\n",
      "Epoch 36/100\n",
      "10604/10604 [==============================] - 2s 153us/step - loss: 0.0669\n",
      "Epoch 37/100\n",
      "10604/10604 [==============================] - 2s 155us/step - loss: 0.0668\n",
      "Epoch 38/100\n",
      "10604/10604 [==============================] - 2s 156us/step - loss: 0.0668\n",
      "Epoch 39/100\n",
      "10604/10604 [==============================] - 2s 151us/step - loss: 0.0667\n",
      "Epoch 40/100\n",
      "10604/10604 [==============================] - 2s 154us/step - loss: 0.0667\n",
      "Epoch 41/100\n",
      "10604/10604 [==============================] - 2s 159us/step - loss: 0.0667\n",
      "Epoch 42/100\n",
      "10604/10604 [==============================] - 2s 160us/step - loss: 0.0666\n",
      "Epoch 43/100\n",
      "10604/10604 [==============================] - 2s 158us/step - loss: 0.0666\n",
      "Epoch 44/100\n",
      "10604/10604 [==============================] - 2s 151us/step - loss: 0.0665\n",
      "Epoch 45/100\n",
      "10604/10604 [==============================] - 2s 156us/step - loss: 0.0665\n",
      "Epoch 46/100\n",
      "10604/10604 [==============================] - 2s 149us/step - loss: 0.0665\n",
      "Epoch 47/100\n",
      "10604/10604 [==============================] - 2s 148us/step - loss: 0.0664\n",
      "Epoch 48/100\n",
      "10604/10604 [==============================] - 2s 143us/step - loss: 0.0664\n",
      "Epoch 49/100\n",
      "10604/10604 [==============================] - 2s 148us/step - loss: 0.0663\n",
      "Epoch 50/100\n",
      "10604/10604 [==============================] - 2s 144us/step - loss: 0.0664\n",
      "Epoch 51/100\n",
      "10604/10604 [==============================] - 2s 148us/step - loss: 0.0663\n",
      "Epoch 52/100\n",
      "10604/10604 [==============================] - 2s 143us/step - loss: 0.0663\n",
      "Epoch 53/100\n",
      "10604/10604 [==============================] - 2s 147us/step - loss: 0.0663\n",
      "Epoch 54/100\n",
      "10604/10604 [==============================] - 2s 145us/step - loss: 0.0662\n",
      "Epoch 55/100\n",
      "10604/10604 [==============================] - 2s 153us/step - loss: 0.0662\n",
      "Epoch 56/100\n",
      "10604/10604 [==============================] - 2s 152us/step - loss: 0.0662\n",
      "Epoch 57/100\n",
      "10604/10604 [==============================] - 2s 158us/step - loss: 0.0662\n",
      "Epoch 58/100\n",
      "10604/10604 [==============================] - 2s 158us/step - loss: 0.0661\n",
      "Epoch 59/100\n",
      "10604/10604 [==============================] - 2s 151us/step - loss: 0.0661\n",
      "Epoch 60/100\n",
      "10604/10604 [==============================] - 2s 148us/step - loss: 0.0661\n",
      "Epoch 61/100\n",
      "10604/10604 [==============================] - 2s 156us/step - loss: 0.0661\n",
      "Epoch 62/100\n",
      "10604/10604 [==============================] - 2s 159us/step - loss: 0.0661\n",
      "Epoch 63/100\n",
      "10604/10604 [==============================] - 2s 160us/step - loss: 0.0661\n",
      "Epoch 64/100\n",
      "10604/10604 [==============================] - 2s 159us/step - loss: 0.0660\n",
      "Epoch 65/100\n",
      "10604/10604 [==============================] - 2s 160us/step - loss: 0.0661\n",
      "Epoch 66/100\n",
      "10604/10604 [==============================] - 2s 160us/step - loss: 0.0660\n",
      "Epoch 67/100\n",
      "10604/10604 [==============================] - 2s 147us/step - loss: 0.0660\n",
      "Epoch 68/100\n",
      "10604/10604 [==============================] - 2s 157us/step - loss: 0.0660\n",
      "Epoch 69/100\n",
      "10604/10604 [==============================] - 2s 157us/step - loss: 0.0660\n",
      "Epoch 70/100\n",
      "10604/10604 [==============================] - 2s 154us/step - loss: 0.0660\n",
      "Epoch 71/100\n",
      "10604/10604 [==============================] - 2s 150us/step - loss: 0.0659\n",
      "Epoch 72/100\n",
      "10604/10604 [==============================] - 2s 148us/step - loss: 0.0660\n",
      "Epoch 73/100\n",
      "10604/10604 [==============================] - 2s 156us/step - loss: 0.0659\n",
      "Epoch 74/100\n",
      "10604/10604 [==============================] - 2s 151us/step - loss: 0.0659\n",
      "Epoch 75/100\n",
      "10604/10604 [==============================] - 2s 148us/step - loss: 0.0660\n",
      "Epoch 76/100\n",
      "10604/10604 [==============================] - 2s 157us/step - loss: 0.0659\n",
      "Epoch 77/100\n",
      "10604/10604 [==============================] - 2s 150us/step - loss: 0.0659\n",
      "Epoch 78/100\n",
      "10604/10604 [==============================] - 2s 151us/step - loss: 0.0659\n",
      "Epoch 79/100\n",
      "10604/10604 [==============================] - 2s 158us/step - loss: 0.0659\n",
      "Epoch 80/100\n",
      "10604/10604 [==============================] - 2s 145us/step - loss: 0.0659\n",
      "Epoch 81/100\n",
      "10604/10604 [==============================] - 2s 155us/step - loss: 0.0659\n",
      "Epoch 82/100\n",
      "10604/10604 [==============================] - 2s 155us/step - loss: 0.0659\n",
      "Epoch 83/100\n",
      "10604/10604 [==============================] - 2s 158us/step - loss: 0.0658\n",
      "Epoch 84/100\n",
      "10604/10604 [==============================] - 2s 156us/step - loss: 0.0659\n",
      "Epoch 85/100\n",
      "10604/10604 [==============================] - 2s 155us/step - loss: 0.0659\n",
      "Epoch 86/100\n",
      "10604/10604 [==============================] - 2s 155us/step - loss: 0.0659\n",
      "Epoch 87/100\n",
      "10604/10604 [==============================] - 2s 159us/step - loss: 0.0659\n",
      "Epoch 88/100\n",
      "10604/10604 [==============================] - 2s 160us/step - loss: 0.0658\n",
      "Epoch 89/100\n",
      "10604/10604 [==============================] - 2s 156us/step - loss: 0.0658\n",
      "Epoch 90/100\n",
      "10604/10604 [==============================] - 2s 152us/step - loss: 0.0659\n",
      "Epoch 91/100\n",
      "10604/10604 [==============================] - 2s 152us/step - loss: 0.0658\n",
      "Epoch 92/100\n",
      "10604/10604 [==============================] - 2s 152us/step - loss: 0.0658\n",
      "Epoch 93/100\n"
     ]
    },
    {
     "name": "stdout",
     "output_type": "stream",
     "text": [
      "10604/10604 [==============================] - 2s 152us/step - loss: 0.0658\n",
      "Epoch 94/100\n",
      "10604/10604 [==============================] - 2s 149us/step - loss: 0.0658\n",
      "Epoch 95/100\n",
      "10604/10604 [==============================] - 2s 155us/step - loss: 0.0659\n",
      "Epoch 96/100\n",
      "10604/10604 [==============================] - 2s 158us/step - loss: 0.0658\n",
      "Epoch 97/100\n",
      "10604/10604 [==============================] - 2s 161us/step - loss: 0.0658\n",
      "Epoch 98/100\n",
      "10604/10604 [==============================] - 2s 144us/step - loss: 0.0658\n",
      "Epoch 99/100\n",
      "10604/10604 [==============================] - 2s 162us/step - loss: 0.0658\n",
      "Epoch 100/100\n",
      "10604/10604 [==============================] - 2s 161us/step - loss: 0.0658\n"
     ]
    }
   ],
   "source": [
    "## train a simec model on all the data\n",
    "e_dim = 100\n",
    "model = SimilarityEncoder(feat_mat_train.shape[1], e_dim, len(user1000_idx), sparse_inputs=True,\n",
    "                          opt=0.005)\n",
    "model.fit(feat_mat_train, ratings_matrix[:, user1000_idx], epochs=100)"
   ]
  },
  {
   "cell_type": "code",
   "execution_count": 25,
   "metadata": {
    "ExecuteTime": {
     "end_time": "2018-12-21T23:19:08.640393Z",
     "start_time": "2018-12-21T23:18:33.081621Z"
    }
   },
   "outputs": [
    {
     "name": "stdout",
     "output_type": "stream",
     "text": [
      "3817 1.5081229063347688 [0.7581439]\n",
      "14134 1.6716881864501811 [1.097819]\n",
      "38928 1.3442179670144445 [0.96132374]\n",
      "43992 1.2236161733568913 [1.6317253]\n",
      "67542 1.106614890265012 [0.65250415]\n",
      "33399 1.9380311195472126 [1.0206702]\n",
      "55005 1.13232605409724 [1.1926526]\n",
      "57481 1.4555266082444507 [1.0408292]\n",
      "69714 1.1623612943406805 [0.77392673]\n",
      "63905 1.5606527097317775 [1.4333633]\n",
      "6845 1.5592188723707587 [1.4504147]\n",
      "54922 1.0400421687510661 [0.62303495]\n",
      "3810 2.043085622347617 [1.1391804]\n",
      "36827 1.309172313434308 [0.3157869]\n",
      "9181 1.8202991844135212 [0.71559113]\n",
      "44041 1.1353354126237232 [0.5608347]\n",
      "37412 1.270476152066227 [0.13445282]\n",
      "9139 1.153721495646416 [0.82201874]\n",
      "12367 2.3878733444222604 [1.8902686]\n",
      "23988 1.2933566035544573 [0.07338634]\n",
      "48717 1.4109352817251617 [1.0602231]\n",
      "19111 1.0889827922593098 [-0.08282591]\n",
      "28855 1.5213618266175453 [0.54434705]\n",
      "35015 1.7502507389270914 [0.58862627]\n",
      "18870 1.2961326308946255 [0.3800838]\n",
      "42242 1.4751743595099494 [0.62687063]\n",
      "27313 1.452408774685475 [-0.06999525]\n",
      "34324 1.9353799227547306 [0.73981977]\n",
      "70116 1.5142049150747163 [0.45850024]\n",
      "59934 1.4393837145186872 [0.62477607]\n",
      "35779 1.1960969734606874 [0.18150178]\n",
      "3171 1.1279566689404534 [0.41371316]\n",
      "32501 1.1305470215933204 [0.43702757]\n",
      "41130 1.5087429128183403 [1.2739158]\n"
     ]
    }
   ],
   "source": [
    "# look through all users that made the cut\n",
    "users_of_interest = [\"3817\", \"14134\", \"38928\", \"43992\", \"67542\", \"33399\", \"55005\", \"57481\", \"69714\", \"63905\", \"6845\", \"54922\", \"3810\", \"36827\", \"9181\", \"44041\", \"37412\", \"9139\", \"12367\", \"23988\", \"48717\", \"19111\", \"28855\", \"35015\", \"18870\", \"42242\", \"27313\", \"34324\", \"70116\", \"59934\", \"35779\", \"3171\", \"32501\", \"41130\"]\n",
    "m = \"8874\"\n",
    "mid = map_movieid2index_train[m]\n",
    "for u1 in users_of_interest:\n",
    "    uid1 = user1000_idx.index(map_userid2index_train[u1]) # map_userid2index_train[u1]\n",
    "    # check regular prediction scores\n",
    "    print(u1, residual_ratings[(m,u1)], model.predict(feat_mat_train[mid,:])[:,uid1])\n",
    "    f_movie = csr_matrix(diags(feat_mat_train[mid,:].toarray()[0], 0, shape=(feat_mat_train.shape[1], feat_mat_train.shape[1])))\n",
    "    # featurewise predictions need to be corrected for the bias\n",
    "    temp = np.dot((model.transform(f_movie) + (1/f_movie.count_nonzero() - 1.) * model.model.layers[1].get_weights()[1]), model.model.layers[2].get_weights()[0][:, [uid1]])\n",
    "    uid1_scores = {f: temp[i,0] for i, f in enumerate(featurenames) if f_movie[i,i]}\n",
    "    del temp\n",
    "    if uid1_scores[\"Comedy\"] > 0.01 and uid1_scores[\"Horror\"] < -0.011 and uid1_scores[\"zombie\"] < -0.01:\n",
    "        # this should be the same as the original predictions\n",
    "        print(sum(uid1_scores.values()), tuple_ratings[(m, u1)], residual_ratings[(m, u1)])\n",
    "        for f in sorted(uid1_scores, key=uid1_scores.get, reverse=True):\n",
    "            print(f, uid1_scores[f])\n",
    "        print()"
   ]
  },
  {
   "cell_type": "code",
   "execution_count": 26,
   "metadata": {
    "ExecuteTime": {
     "end_time": "2018-12-21T23:19:13.328128Z",
     "start_time": "2018-12-21T23:19:11.720568Z"
    },
    "scrolled": true
   },
   "outputs": [
    {
     "name": "stdout",
     "output_type": "stream",
     "text": [
      "1.5081229063347688 1.0400421687510661\n",
      "[[0.75814396 0.62303483]]\n",
      "0.7581440068315715 0.6230348683893681\n"
     ]
    }
   ],
   "source": [
    "# for a certain movie, create a new feature matrix with the features on the diagonal\n",
    "# to get relevancy scores for each separate feature (only works for linear SimEc)\n",
    "m = \"8874\"\n",
    "u1 = \"3817\"\n",
    "u2 = \"54922\"\n",
    "mid = map_movieid2index_train[m]\n",
    "uid1 = user1000_idx.index(map_userid2index_train[u1]) # map_userid2index_train[u1]\n",
    "uid2 = user1000_idx.index(map_userid2index_train[u2]) # map_userid2index_train[u2]\n",
    "# check regular prediction scores\n",
    "print(residual_ratings[(m,u1)], residual_ratings[(m,u2)])\n",
    "print(model.predict(feat_mat_train[mid,:])[:,[uid1, uid2]])\n",
    "f_movie = csr_matrix(diags(feat_mat_train[mid,:].toarray()[0], 0, shape=(feat_mat_train.shape[1], feat_mat_train.shape[1])))\n",
    "# featurewise predictions need to be corrected for the bias\n",
    "temp = np.dot((model.transform(f_movie) + (1/f_movie.count_nonzero() - 1.) * model.model.layers[1].get_weights()[1]), model.model.layers[2].get_weights()[0][:, [uid1, uid2]])\n",
    "uid1_scores = {f: temp[i,0] for i, f in enumerate(featurenames) if f_movie[i,i]}\n",
    "uid2_scores = {f: temp[i,1] for i, f in enumerate(featurenames) if f_movie[i,i]}\n",
    "del temp\n",
    "# this should be the same as the original predictions\n",
    "print(sum(uid1_scores.values()), sum(uid2_scores.values()))"
   ]
  },
  {
   "cell_type": "code",
   "execution_count": 27,
   "metadata": {
    "ExecuteTime": {
     "end_time": "2018-12-21T23:19:13.351380Z",
     "start_time": "2018-12-21T23:19:13.329796Z"
    }
   },
   "outputs": [
    {
     "name": "stdout",
     "output_type": "stream",
     "text": [
      "0.7581440068315715 5.0 1.5081229063347688\n",
      "british pub 0.17928654\n",
      "survival horror 0.113236606\n",
      "Horror 0.08784471\n",
      "zombie 0.08533864\n",
      "Edgar Wright 0.079992354\n",
      "friends 0.062563784\n",
      "pub 0.052024793\n",
      "surrey 0.04558057\n",
      "cult film 0.03570031\n",
      "Comedy 0.022916662\n",
      "satire 0.013590778\n",
      "mother 0.0035597829\n",
      "dark comedy -0.023491517\n"
     ]
    }
   ],
   "source": [
    "# the Horror afine user seems to like this move mostly because it's a horror movie\n",
    "print(sum(uid1_scores.values()), tuple_ratings[(m, u1)], residual_ratings[(m, u1)])\n",
    "for f in sorted(uid1_scores, key=uid1_scores.get, reverse=True):\n",
    "    print(f, uid1_scores[f])"
   ]
  },
  {
   "cell_type": "code",
   "execution_count": 28,
   "metadata": {
    "ExecuteTime": {
     "end_time": "2018-12-21T23:19:13.383889Z",
     "start_time": "2018-12-21T23:19:13.353088Z"
    }
   },
   "outputs": [
    {
     "name": "stdout",
     "output_type": "stream",
     "text": [
      "0.6230348683893681 5.0 1.0400421687510661\n",
      "Edgar Wright 0.19807953\n",
      "british pub 0.17785667\n",
      "survival horror 0.14873981\n",
      "dark comedy 0.09604439\n",
      "surrey 0.03555484\n",
      "Comedy 0.014170192\n",
      "cult film 0.011379542\n",
      "pub 0.009168113\n",
      "zombie 0.0052206265\n",
      "mother -0.00020836387\n",
      "friends -0.015857495\n",
      "satire -0.02777603\n",
      "Horror -0.029336957\n"
     ]
    }
   ],
   "source": [
    "# the comedy user likes it because it's a comedy cult film and zombie and Horror score negatively\n",
    "print(sum(uid2_scores.values()), tuple_ratings[(m, u2)], residual_ratings[(m, u2)])\n",
    "for f in sorted(uid2_scores, key=uid2_scores.get, reverse=True):\n",
    "    print(f, uid2_scores[f])"
   ]
  },
  {
   "cell_type": "markdown",
   "metadata": {},
   "source": [
    "## Content based recommendations\n",
    "In the following, we discuss recommendations on item basis, e.g., suggesting similar items alongside an item a user is currently looking at. With content based recommendations, these suggestions are made based on the items' features, not the user ratings, which means that suggestions can also be made for new items that did not receive any ratings yet. However, a similarity score computed straight from the items' feature vectors does not correspond well to what users perceive as similar items, e.g., movies that got similar ratings from users are not necessarily similar with respect to their feature vectors.\n",
    "\n",
    "By using SimEc to learn a mapping from the items' feature vectors into an embedding space where the user ratings based similarities are preserved, more useful suggestions can be generated even for new items. By first projecting the item's feature vector in the embedding space and then computing the dot product with all other items' embedding vectors, the most similar items can be identified and recommended alongside the item of interest:\n",
    "<img src=\"data/simec_recommendation.png\" width=\"600\">"
   ]
  },
  {
   "cell_type": "code",
   "execution_count": 29,
   "metadata": {
    "ExecuteTime": {
     "end_time": "2018-12-21T23:24:13.943846Z",
     "start_time": "2018-12-21T23:19:50.137502Z"
    }
   },
   "outputs": [
    {
     "name": "stdout",
     "output_type": "stream",
     "text": [
      "generating train/test splits for scenario 'T1'\n",
      "got 6992764 training and 2996900 test ratings\n",
      "computing content based similarities\n"
     ]
    },
    {
     "name": "stderr",
     "output_type": "stream",
     "text": [
      "/home/franzi/anaconda3/lib/python3.6/site-packages/ipykernel_launcher.py:9: RuntimeWarning: invalid value encountered in sqrt\n",
      "  if __name__ == '__main__':\n"
     ]
    },
    {
     "name": "stdout",
     "output_type": "stream",
     "text": [
      "11 movies have no features...:/\n",
      "computing user ratings based similarities\n",
      "10604 2031\n",
      "Correlation between ratings: 0.18514933950049306 0.1504878927838488\n"
     ]
    },
    {
     "data": {
      "image/png": "[encoded data removed]",
      "text/plain": [
       "<Figure size 432x288 with 1 Axes>"
      ]
     },
     "metadata": {},
     "output_type": "display_data"
    }
   ],
   "source": [
    "# load data\n",
    "rating_pairs_train, rating_pairs_test, map_index2userid_train, map_index2movieid_train, map_userid2index_train, map_movieid2index_train = split_traintest(\"T1\")\n",
    "rating_pairs_train, rating_pairs_test = list(rating_pairs_train), list(rating_pairs_test)\n",
    "rating_pairs_train.extend(rating_pairs_test)\n",
    "# get feature vectors for all movies\n",
    "print(\"computing content based similarities\")\n",
    "feat_mat_train, _, featurenames = get_features_mats(map_index2movieid_train, [])\n",
    "# normalize them to have length 1 (since features are binary, norm is just the sqrt(sum()))\n",
    "N = np.sqrt(feat_mat_train.sum(1))\n",
    "print(\"%i movies have no features...:/\" % np.sum(N==0))\n",
    "N[N==0] = 1\n",
    "feat_mat_train_normed = feat_mat_train/N\n",
    "# compute content based similarity matrix (\"similar movies have similar genres/directors/topics\")\n",
    "S_content = feat_mat_train_normed.dot(feat_mat_train_normed.T).A  # cosine similarity\n",
    "# get sparse matrix with residuals\n",
    "print(\"computing user ratings based similarities\")\n",
    "# initalize and fit means model\n",
    "mmodel = MeansModel()\n",
    "mmodel.fit(tuple_ratings, rating_pairs_train)\n",
    "residual_ratings = mmodel.compute_residuals(tuple_ratings, rating_pairs_train)\n",
    "# transform residual_ratings into a dict with {movieid: {userid: rating}}\n",
    "residual_ratings_movies = defaultdict(dict)\n",
    "for (m, u) in residual_ratings:\n",
    "    residual_ratings_movies[m][u] = residual_ratings[(m, u)]\n",
    "# normalize rating vectors to have unit length\n",
    "for m in residual_ratings_movies:\n",
    "    N = np.linalg.norm(list(residual_ratings_movies[m].values())) \n",
    "    residual_ratings_movies[m] = {u: residual_ratings_movies[m][u]/N for u in residual_ratings_movies[m]}\n",
    "# transform into sparse matrix\n",
    "ratings_matrix = dok_matrix((len(map_movieid2index_train), len(map_userid2index_train)), dtype=float)\n",
    "for i, m in enumerate(map_index2movieid_train):\n",
    "    for u in residual_ratings_movies[m]:\n",
    "        ratings_matrix[i, map_userid2index_train[u]] = residual_ratings_movies[m][u]\n",
    "ratings_matrix = csr_matrix(ratings_matrix)\n",
    "# compute user ratings based similarity matrix (\"similar movies get similar ratings\")\n",
    "S_user = ratings_matrix.dot(ratings_matrix.T).A\n",
    "# get movies with more than 1k ratings\n",
    "movie1000_idx = sorted([map_movieid2index_train[m] for m in residual_ratings_movies if len(residual_ratings_movies[m]) >= 1000])\n",
    "print(len(map_movieid2index_train), len(movie1000_idx))\n",
    "S_user = S_user[movie1000_idx][:,movie1000_idx]\n",
    "S_content = S_content[movie1000_idx][:,movie1000_idx]\n",
    "# check correlation between both similarity scores (--> if movies with similar content also \n",
    "# get similar ratings, the content based similarity score can be used for recommendations)\n",
    "s_content_flat = np.asarray(S_content[np.triu_indices_from(S_content, 1)])\n",
    "s_user_flat = np.asarray(S_user[np.triu_indices_from(S_user, 1)])\n",
    "corr_pear = pearsonr(s_content_flat, s_user_flat)[0]\n",
    "corr_spear = spearmanr(s_content_flat, s_user_flat)[0]\n",
    "print(\"Correlation between ratings:\", corr_pear, corr_spear)\n",
    "ridx = np.random.permutation(len(s_content_flat))[:5000]\n",
    "plt.figure()\n",
    "plt.scatter(s_user_flat[ridx], s_content_flat[ridx], s=2)\n",
    "plt.xlabel(\"User ratings based similarities\")\n",
    "plt.ylabel(\"Content based similarities\");\n",
    "plt.title(\"Movie similarities (Pearson corr: %.3f)\" % corr_pear)\n",
    "if savefigs: plt.savefig(\"ratings_corr_basic.png\", dpi=300)"
   ]
  },
  {
   "cell_type": "code",
   "execution_count": 30,
   "metadata": {
    "ExecuteTime": {
     "end_time": "2018-12-21T23:24:37.077334Z",
     "start_time": "2018-12-21T23:24:13.945574Z"
    }
   },
   "outputs": [
    {
     "name": "stdout",
     "output_type": "stream",
     "text": [
      "Epoch 1/20\n",
      "2031/2031 [==============================] - 2s 1ms/step - loss: 0.0091\n",
      "Epoch 2/20\n",
      "2031/2031 [==============================] - 1s 499us/step - loss: 0.0064\n",
      "Epoch 3/20\n",
      "2031/2031 [==============================] - 1s 474us/step - loss: 0.0057\n",
      "Epoch 4/20\n",
      "2031/2031 [==============================] - 1s 475us/step - loss: 0.0053\n",
      "Epoch 5/20\n",
      "2031/2031 [==============================] - 1s 498us/step - loss: 0.0051\n",
      "Epoch 6/20\n",
      "2031/2031 [==============================] - 1s 502us/step - loss: 0.0049\n",
      "Epoch 7/20\n",
      "2031/2031 [==============================] - 1s 506us/step - loss: 0.0049\n",
      "Epoch 8/20\n",
      "2031/2031 [==============================] - 1s 505us/step - loss: 0.0048\n",
      "Epoch 9/20\n",
      "2031/2031 [==============================] - 1s 505us/step - loss: 0.0048\n",
      "Epoch 10/20\n",
      "2031/2031 [==============================] - 1s 493us/step - loss: 0.0047\n",
      "Epoch 11/20\n",
      "2031/2031 [==============================] - 1s 504us/step - loss: 0.0047\n",
      "Epoch 12/20\n",
      "2031/2031 [==============================] - 1s 480us/step - loss: 0.0047\n",
      "Epoch 13/20\n",
      "2031/2031 [==============================] - 1s 490us/step - loss: 0.0047\n",
      "Epoch 14/20\n",
      "2031/2031 [==============================] - 1s 492us/step - loss: 0.0047\n",
      "Epoch 15/20\n",
      "2031/2031 [==============================] - 1s 509us/step - loss: 0.0047\n",
      "Epoch 16/20\n",
      "2031/2031 [==============================] - 1s 495us/step - loss: 0.0047\n",
      "Epoch 17/20\n",
      "2031/2031 [==============================] - 1s 487us/step - loss: 0.0047\n",
      "Epoch 18/20\n",
      "2031/2031 [==============================] - 1s 500us/step - loss: 0.0047\n",
      "Epoch 19/20\n",
      "2031/2031 [==============================] - 1s 478us/step - loss: 0.0046\n",
      "Epoch 20/20\n",
      "2031/2031 [==============================] - 1s 479us/step - loss: 0.0046\n",
      "[ 1.00000000e+00  2.73197152e-02  1.42990715e-02  1.18468596e-02\n",
      " -4.98530284e-04  3.39386392e-03]\n",
      "[ 0.07213999  0.01692549  0.00074972  0.00400783 -0.0099093   0.00811078]\n",
      "[ 0.07187003  0.01416907  0.00055416  0.00461719 -0.01185771  0.006985  ]\n",
      "Correlation between ratings: 0.8669564812627747 0.843999977465769\n"
     ]
    },
    {
     "data": {
      "image/png": "[encoded data removed]",
      "text/plain": [
       "<Figure size 432x288 with 1 Axes>"
      ]
     },
     "metadata": {},
     "output_type": "display_data"
    }
   ],
   "source": [
    "# train a simec to map the movie feature vectors into an embedding space,\n",
    "# where the user rating based similarities are preserved\n",
    "e_dim = 100\n",
    "n_targets = len(movie1000_idx)\n",
    "feat_mat_train = feat_mat_train[movie1000_idx]\n",
    "model = SimilarityEncoder(feat_mat_train.shape[1], e_dim, n_targets, [(500, \"tanh\")], sparse_inputs=True, opt=0.001,\n",
    "                          s_ll_reg=10., S_ll=S_user[:n_targets, :n_targets])\n",
    "model.fit(feat_mat_train, S_user[:, :n_targets], epochs=20)\n",
    "# compute embeddings for movies\n",
    "X_embed = model.transform(feat_mat_train)\n",
    "# compute simec similarity and check correlation\n",
    "print (S_user[0,:6])\n",
    "print (model.predict(feat_mat_train)[0,:6])\n",
    "S_simec = X_embed.dot(X_embed.T)\n",
    "print (S_simec[0,:6])\n",
    "s_simec_flat = np.asarray(S_simec[np.triu_indices_from(S_simec, 1)])\n",
    "corr_pear = pearsonr(s_simec_flat, s_user_flat)[0]\n",
    "corr_spear = spearmanr(s_simec_flat, s_user_flat)[0]\n",
    "print(\"Correlation between ratings:\", corr_pear, corr_spear)\n",
    "plt.figure()\n",
    "plt.scatter(s_user_flat[ridx], s_simec_flat[ridx], s=2)\n",
    "plt.xlabel(\"User ratings based similarities\")\n",
    "plt.ylabel(\"SimEc embedding similarities\");\n",
    "plt.title(\"Movie similarities (Pearson corr: %.3f)\" % corr_pear)\n",
    "if savefigs: plt.savefig(\"ratings_corr_simec.png\", dpi=300)"
   ]
  },
  {
   "cell_type": "code",
   "execution_count": 31,
   "metadata": {
    "ExecuteTime": {
     "end_time": "2018-12-21T23:24:38.345388Z",
     "start_time": "2018-12-21T23:24:37.080262Z"
    }
   },
   "outputs": [
    {
     "name": "stdout",
     "output_type": "stream",
     "text": [
      "8874 Shaun of the Dead 3964 3.8925327951564075 \n",
      " ['Horror', 'Comedy'] \n",
      " ['mother', 'pub', 'surrey', 'satire', 'friends', 'dark comedy', 'zombie', 'cult film', 'survival horror', 'british pub'] \n",
      " ['Edgar Wright']\n",
      "7293 50 First Dates 2164 3.4450092421441774 \n",
      " ['Comedy', 'Romance'] \n",
      " ['deja vu', 'amnesia', 'hawaii', 'ladykiller', 'romantic comedy'] \n",
      " ['Peter Segal']\n",
      "7360 Dawn of the Dead 1742 3.5539609644087258 \n",
      " ['Fantasy', 'Horror', 'Action', 'Drama'] \n",
      " ['refugee', 'mass murder', 'habor', 'car journey', 'department store', 'blackout', 'bus ride', 'pregnancy and birth', 'dying and death', 'bite', 'to shoot dead', 'lorry', 'munition', 'basement garage', 'guard', 'zombie', 'dog', 'car', 'duringcreditsstinger'] \n",
      " ['Zack Snyder']\n"
     ]
    }
   ],
   "source": [
    "# e.g. 8874 Shaun of the Dead\n",
    "# other movies from 2004:\n",
    "# 7451 Mean Girls\n",
    "# 7293 50 First Dates\n",
    "# 8957 Saw\n",
    "# 7360 Dawn of the Dead\n",
    "movies_of_interest = [\"8874\", \"7293\", \"7360\"]\n",
    "moi_ratings = {m: [] for m in movies_of_interest}\n",
    "moi_users = {m: set() for m in movies_of_interest}\n",
    "for (m, u) in tuple_ratings:\n",
    "    if m in movies_of_interest:\n",
    "        moi_ratings[m].append(tuple_ratings[(m, u)])\n",
    "        moi_users[m].add(u)\n",
    "for m in moi_ratings:\n",
    "    print(m, movies_data[m][\"title\"], len(moi_ratings[m]), np.mean(moi_ratings[m]), \"\\n\", movies_data[m][\"genres\"], \"\\n\", movies_data[m][\"keywords\"], \"\\n\", movies_data[m][\"directors\"])"
   ]
  },
  {
   "cell_type": "code",
   "execution_count": 32,
   "metadata": {
    "ExecuteTime": {
     "end_time": "2018-12-21T23:24:38.375771Z",
     "start_time": "2018-12-21T23:24:38.348296Z"
    }
   },
   "outputs": [
    {
     "name": "stdout",
     "output_type": "stream",
     "text": [
      "Similarities between Shaun of the Dead 50 First Dates\n",
      "Content based 0.09805807\n",
      "User ratings based -0.013588011525843567\n",
      "SimEc 0.0017165871\n",
      "Similarities between Shaun of the Dead Dawn of the Dead\n",
      "Content based 0.1132277\n",
      "User ratings based 0.1013175233895677\n",
      "SimEc 0.051328722\n",
      "Similarities between 50 First Dates Dawn of the Dead\n",
      "Content based 0.0\n",
      "User ratings based 0.009332836728617075\n",
      "SimEc 0.0054763085\n"
     ]
    }
   ],
   "source": [
    "# content based and simec similarities for our 3 movies of interest\n",
    "m1, m2, m3 = \"8874\", \"7293\", \"7360\"\n",
    "for i, j in [(m1, m2), (m1, m3), (m2, m3)]:\n",
    "    print(\"Similarities between\", movies_data[i][\"title\"], movies_data[j][\"title\"])\n",
    "    i, j = movie1000_idx.index(map_movieid2index_train[i]), movie1000_idx.index(map_movieid2index_train[j])\n",
    "    print(\"Content based\", S_content[i,j])\n",
    "    print(\"User ratings based\", S_user[i,j])\n",
    "    print(\"SimEc\", S_simec[i,j])"
   ]
  },
  {
   "cell_type": "code",
   "execution_count": null,
   "metadata": {},
   "outputs": [],
   "source": []
  }
 ],
 "metadata": {
  "kernelspec": {
   "display_name": "Python 3",
   "language": "python",
   "name": "python3"
  },
  "language_info": {
   "codemirror_mode": {
    "name": "ipython",
    "version": 3
   },
   "file_extension": ".py",
   "mimetype": "text/x-python",
   "name": "python",
   "nbconvert_exporter": "python",
   "pygments_lexer": "ipython3",
   "version": "3.6.5"
  }
 },
 "nbformat": 4,
 "nbformat_minor": 2
}
