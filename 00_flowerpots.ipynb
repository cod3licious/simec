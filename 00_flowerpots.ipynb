{
 "cells": [
  {
   "cell_type": "markdown",
   "metadata": {},
   "source": [
    "## Flowerpot Experiment\n",
    "30 subjects rated the similarity of 16 plants with different stem lengths and leaf shapes. Can we create a similarity preserving representation, that allows us to embed new plants into the embedding space without asking the humans again for their similarity judgements?"
   ]
  },
  {
   "cell_type": "code",
   "execution_count": 1,
   "metadata": {
    "ExecuteTime": {
     "end_time": "2018-05-20T18:59:54.610917Z",
     "start_time": "2018-05-20T18:59:51.475512Z"
    }
   },
   "outputs": [
    {
     "name": "stderr",
     "output_type": "stream",
     "text": [
      "Using TensorFlow backend.\n"
     ]
    }
   ],
   "source": [
    "from __future__ import unicode_literals, division, print_function, absolute_import\n",
    "from builtins import str, range\n",
    "import numpy as np\n",
    "import matplotlib.pyplot as plt\n",
    "from sklearn.decomposition import KernelPCA\n",
    "import keras\n",
    "\n",
    "from simec import SimilarityEncoder\n",
    "from utils import center_K\n",
    "\n",
    "%matplotlib inline\n",
    "%load_ext autoreload\n",
    "%autoreload 2"
   ]
  },
  {
   "cell_type": "code",
   "execution_count": 2,
   "metadata": {
    "ExecuteTime": {
     "end_time": "2018-05-20T18:59:54.864540Z",
     "start_time": "2018-05-20T18:59:54.612586Z"
    }
   },
   "outputs": [
    {
     "name": "stdout",
     "output_type": "stream",
     "text": [
      "[13 12  0  3 11  9  5  1 15  8  2  7  6 10 14  4]\n"
     ]
    }
   ],
   "source": [
    "# copy the data from the original paper (dissimilarities!) - ES (elongation/size) experiment \n",
    "# (\"Representations of Qualitative and Quantitative Dimensions\" by I.Gati & A. Tversky, 1982)\n",
    "S = np.array(\n",
    "    [[ 0.0,  0.0,  0.0,  0.0,  0.0,  0.0,  0.0,  0.0,  0.0,  0.0,  0.0,  0.0,  0.0,  0.0,  0.0,  0.0],\n",
    "     [ 7.9,  0.0,  0.0,  0.0,  0.0,  0.0,  0.0,  0.0,  0.0,  0.0,  0.0,  0.0,  0.0,  0.0,  0.0,  0.0],\n",
    "     [ 9.5,  5.1,  0.0,  0.0,  0.0,  0.0,  0.0,  0.0,  0.0,  0.0,  0.0,  0.0,  0.0,  0.0,  0.0,  0.0],\n",
    "     [10.2,  7.3,  5.0,  0.0,  0.0,  0.0,  0.0,  0.0,  0.0,  0.0,  0.0,  0.0,  0.0,  0.0,  0.0,  0.0],\n",
    "     [ 3.8, 12.6, 12.3, 14.9,  0.0,  0.0,  0.0,  0.0,  0.0,  0.0,  0.0,  0.0,  0.0,  0.0,  0.0,  0.0],\n",
    "     [10.7,  4.5,  9.0, 10.5, 10.6,  0.0,  0.0,  0.0,  0.0,  0.0,  0.0,  0.0,  0.0,  0.0,  0.0,  0.0],\n",
    "     [11.2,  7.3,  4.3,  7.7, 10.6,  5.7,  0.0,  0.0,  0.0,  0.0,  0.0,  0.0,  0.0,  0.0,  0.0,  0.0],\n",
    "     [11.9,  9.8,  7.6,  4.2, 13.0,  9.1,  5.9,  0.0,  0.0,  0.0,  0.0,  0.0,  0.0,  0.0,  0.0,  0.0],\n",
    "     [ 6.7, 15.4, 16.3, 17.6,  4.3, 13.6, 14.4, 15.7,  0.0,  0.0,  0.0,  0.0,  0.0,  0.0,  0.0,  0.0],\n",
    "     [15.4,  7.1, 12.8, 15.8, 12.1,  4.9, 10.6, 12.5, 10.0,  0.0,  0.0,  0.0,  0.0,  0.0,  0.0,  0.0],\n",
    "     [15.4, 11.9,  7.5, 11.0, 13.2,  9.8,  4.8,  8.5, 12.0,  7.3,  0.0,  0.0,  0.0,  0.0,  0.0,  0.0],\n",
    "     [16.4, 15.0, 11.1,  6.5, 14.9, 13.4,  8.2,  5.1, 13.8, 10.6,  6.6,  0.0,  0.0,  0.0,  0.0,  0.0],\n",
    "     [ 9.0, 17.7, 18.5, 19.1,  5.8, 15.9, 16.8, 18.2,  4.4, 13.8, 14.7, 16.5,  0.0,  0.0,  0.0,  0.0],\n",
    "     [17.7,  9.1, 14.1, 17.1, 15.2,  6.9, 12.7, 15.5, 12.1,  4.3,  9.3, 12.9, 11.1,  0.0,  0.0,  0.0],\n",
    "     [17.2, 13.9,  9.3, 12.9, 16.4, 12.7,  6.8,  9.8, 13.8,  8.4,  4.3,  8.1, 11.5,  6.8,  0.0,  0.0],\n",
    "     [18.7, 15.8, 11.6,  8.8, 16.9, 15.1, 10.3,  6.0, 15.2, 13.0,  8.2,  3.5, 13.7, 11.1,  5.8,  0.0]])\n",
    "# elongation/form experiment (not used here)\n",
    "S_EF = np.array(\n",
    "    [[ 0.0,  8.4,  9.9, 10.3,  6.3, 15.2, 14.9, 17.6,  8.6, 15.2, 15.7, 18.1,  8.9, 17.0, 17.2, 18.3],\n",
    "     [ 0.0,  0.0,  6.2,  8.0, 15.1,  8.0, 11.5, 15.1, 16.7,  8.2, 13.1, 15.9, 17.2, 10.1, 14.9, 16.8],\n",
    "     [ 0.0,  0.0,  0.0,  6.0, 15.8, 11.8,  7.6, 11.5, 16.2, 12.9,  8.3, 12.6, 17.3, 15.2,  9.9, 13.1],\n",
    "     [ 0.0,  0.0,  0.0,  0.0, 17.3, 14.4, 13.2,  7.0, 17.9, 15.8, 14.8,  7.8, 18.4, 16.1, 15.6,  9.6],\n",
    "     [ 0.0,  0.0,  0.0,  0.0,  0.0,  8.3, 10.0, 11.1,  5.1, 13.1, 12.6, 14.8,  7.0, 15.1, 14.9, 17.0],\n",
    "     [ 0.0,  0.0,  0.0,  0.0,  0.0,  0.0,  5.9,  7.4, 13.3,  5.3,  9.3, 11.8, 15.2,  7.2, 12.5, 15.0],\n",
    "     [ 0.0,  0.0,  0.0,  0.0,  0.0,  0.0,  0.0,  5.5, 13.7,  9.9,  5.3,  9.5, 16.4, 12.1,  7.6, 12.1],\n",
    "     [ 0.0,  0.0,  0.0,  0.0,  0.0,  0.0,  0.0,  0.0, 13.8, 11.5, 10.3,  5.5, 17.0, 15.5, 12.6,  6.6],\n",
    "     [ 0.0,  0.0,  0.0,  0.0,  0.0,  0.0,  0.0,  0.0,  0.0,  8.8,  9.7, 10.7,  5.0, 12.4, 13.0, 14.3],\n",
    "     [ 0.0,  0.0,  0.0,  0.0,  0.0,  0.0,  0.0,  0.0,  0.0,  0.0,  5.1,  8.8, 12.0,  6.0,  9.2, 12.0],\n",
    "     [ 0.0,  0.0,  0.0,  0.0,  0.0,  0.0,  0.0,  0.0,  0.0,  0.0,  0.0,  6.7, 12.6,  9.6,  6.3,  8.9],\n",
    "     [ 0.0,  0.0,  0.0,  0.0,  0.0,  0.0,  0.0,  0.0,  0.0,  0.0,  0.0,  0.0, 14.9, 12.0,  9.7,  5.1],\n",
    "     [ 0.0,  0.0,  0.0,  0.0,  0.0,  0.0,  0.0,  0.0,  0.0,  0.0,  0.0,  0.0,  0.0,  8.5,  9.4,  9.6],\n",
    "     [ 0.0,  0.0,  0.0,  0.0,  0.0,  0.0,  0.0,  0.0,  0.0,  0.0,  0.0,  0.0,  0.0,  0.0,  5.1,  6.8],\n",
    "     [ 0.0,  0.0,  0.0,  0.0,  0.0,  0.0,  0.0,  0.0,  0.0,  0.0,  0.0,  0.0,  0.0,  0.0,  0.0,  5.5],\n",
    "     [ 0.0,  0.0,  0.0,  0.0,  0.0,  0.0,  0.0,  0.0,  0.0,  0.0,  0.0,  0.0,  0.0,  0.0,  0.0,  0.0]])\n",
    "# make the matrix symmetric\n",
    "S += S.T\n",
    "# normalize to 1: 20 was the highest rating possible (= most dissimilar),\n",
    "# subract from 1 to transform into similarities and then center the matrix\n",
    "S = center_K(1.-S/20.)\n",
    "# split into random train/test set\n",
    "np.random.seed(25)\n",
    "idx = np.random.permutation(S.shape[0])\n",
    "print(idx)\n",
    "y = idx[:14]\n",
    "y_test = idx[14:]\n",
    "S_train = S[np.ix_(y, y)]"
   ]
  },
  {
   "cell_type": "code",
   "execution_count": 3,
   "metadata": {
    "ExecuteTime": {
     "end_time": "2018-05-20T18:59:55.397400Z",
     "start_time": "2018-05-20T18:59:54.867754Z"
    }
   },
   "outputs": [
    {
     "data": {
      "image/png": "[encoded data removed]",
      "text/plain": [
       "<matplotlib.figure.Figure at 0x7f64f36aab90>"
      ]
     },
     "metadata": {},
     "output_type": "display_data"
    }
   ],
   "source": [
    "# plot eigenvalue spectrum (there is a negative eigenvalue! :O)\n",
    "plt.figure();\n",
    "plt.plot(list(range(1, S.shape[0]+1)), np.linalg.eigvalsh(S)[::-1], '-o', markersize=3);\n",
    "plt.plot([1,S.shape[0]],[0,0], 'k--', linewidth=0.5);\n",
    "plt.xlim(1, S.shape[0]);\n",
    "plt.title('Eigenvalue Spectrum of S');"
   ]
  },
  {
   "cell_type": "code",
   "execution_count": 4,
   "metadata": {
    "ExecuteTime": {
     "end_time": "2018-05-20T18:59:55.427439Z",
     "start_time": "2018-05-20T18:59:55.398672Z"
    },
    "collapsed": true
   },
   "outputs": [],
   "source": [
    "def plot_flowerpots_2d(X, y, X_test=None, y_test=None):\n",
    "    \"\"\"\n",
    "    Inputs:\n",
    "        - X: nx2 feature vectors\n",
    "        - y: corresponding labels describing the n data points (e.g. the numbers 1..n)\n",
    "    \"\"\"\n",
    "    plt.figure()\n",
    "    for i, l in enumerate(y):\n",
    "        plt.text(X[i,0], X[i,1], str(l), color='#103864', fontdict={'weight': 'bold', 'size': 18});\n",
    "    if not X_test is None:\n",
    "        for i, l in enumerate(y_test):\n",
    "            plt.text(X_test[i,0], X_test[i,1], str(l), color='#931d33', fontdict={'weight': 'bold', 'size': 18});\n",
    "    s = 0.1*(np.max(X) - np.min(X))\n",
    "    plt.xlim(np.min(X[:,0])-s, np.max(X[:,0])+s);\n",
    "    plt.ylim(np.min(X[:,1])-s, np.max(X[:,1])+s);\n",
    "    plt.xticks([],[]);\n",
    "    plt.yticks([],[]);"
   ]
  },
  {
   "cell_type": "code",
   "execution_count": 5,
   "metadata": {
    "ExecuteTime": {
     "end_time": "2018-05-20T18:59:55.544850Z",
     "start_time": "2018-05-20T18:59:55.429196Z"
    }
   },
   "outputs": [
    {
     "name": "stdout",
     "output_type": "stream",
     "text": [
      "MSQ Error: 0.02863\n"
     ]
    },
    {
     "data": {
      "image/png": "[encoded data removed]",
      "text/plain": [
       "<matplotlib.figure.Figure at 0x7f64ecada650>"
      ]
     },
     "metadata": {},
     "output_type": "display_data"
    }
   ],
   "source": [
    "# plot first 2 components (of full matrix)\n",
    "D, V = np.linalg.eig(S)\n",
    "D, V = D[np.argsort(D)[::-1]], V[:,np.argsort(D)[::-1]]\n",
    "X_embed = np.dot(V.real[:,:2], np.diag(np.sqrt(np.abs(D.real[:2]))))\n",
    "plot_flowerpots_2d(X_embed, list(range(1, 17)));\n",
    "plt.title('Embedding with largest components');\n",
    "plt.xlabel('1st component (leaf shape)');\n",
    "plt.ylabel('2nd component (stem size)');\n",
    "S_approx = np.dot(X_embed, X_embed.T)\n",
    "print(\"MSQ Error: %.5f\" % np.mean((S/np.abs(S).max() - S_approx/np.abs(S_approx).max())**2))"
   ]
  },
  {
   "cell_type": "code",
   "execution_count": 6,
   "metadata": {
    "ExecuteTime": {
     "end_time": "2018-05-20T18:59:55.651369Z",
     "start_time": "2018-05-20T18:59:55.546229Z"
    }
   },
   "outputs": [
    {
     "name": "stdout",
     "output_type": "stream",
     "text": [
      "MSQ Error: 0.19102\n"
     ]
    },
    {
     "data": {
      "image/png": "[encoded data removed]",
      "text/plain": [
       "<matplotlib.figure.Figure at 0x7f6571a9c350>"
      ]
     },
     "metadata": {},
     "output_type": "display_data"
    }
   ],
   "source": [
    "# plot last 2 components (of full matrix)  -- EV not negative enough; just noise\n",
    "D, V = np.linalg.eig(S)\n",
    "D, V = D[np.argsort(D)], V[:,np.argsort(D)]\n",
    "X_embed = np.dot(V.real[:,:2], np.diag(np.sqrt(np.abs(D.real[:2]))))\n",
    "plot_flowerpots_2d(X_embed, list(range(1,17)))\n",
    "plt.title('embedding with smallest components');\n",
    "plt.xlabel('last component');\n",
    "plt.ylabel('2nd last component');\n",
    "S_approx = np.dot(X_embed, X_embed.T)\n",
    "print(\"MSQ Error: %.5f\" % np.mean((S/np.abs(S).max() - S_approx/np.abs(S_approx).max())**2))"
   ]
  },
  {
   "cell_type": "code",
   "execution_count": 7,
   "metadata": {
    "ExecuteTime": {
     "end_time": "2018-05-20T18:59:55.751193Z",
     "start_time": "2018-05-20T18:59:55.653445Z"
    }
   },
   "outputs": [
    {
     "name": "stdout",
     "output_type": "stream",
     "text": [
      "MSQ Error: 0.03172\n"
     ]
    },
    {
     "data": {
      "image/png": "[encoded data removed]",
      "text/plain": [
       "<matplotlib.figure.Figure at 0x7f64eca15d90>"
      ]
     },
     "metadata": {},
     "output_type": "display_data"
    }
   ],
   "source": [
    "# plot first 2 components (of train matrix)\n",
    "D, V = np.linalg.eig(S_train)\n",
    "D, V = D[np.argsort(D)[::-1]], V[:,np.argsort(D)[::-1]]\n",
    "X_embed = np.dot(V.real[:,:2], np.diag(np.sqrt(np.abs(D.real[:2]))))\n",
    "plot_flowerpots_2d(X_embed, y+1)\n",
    "plt.title('Embedding with largest components');\n",
    "plt.xlabel('1st component (leaf shape)');\n",
    "plt.ylabel('2nd component (stem size)');\n",
    "S_approx = np.dot(X_embed, X_embed.T)\n",
    "print(\"MSQ Error: %.5f\" % np.mean((S_train/np.abs(S_train).max() - S_approx/np.abs(S_approx).max())**2))"
   ]
  },
  {
   "cell_type": "code",
   "execution_count": 8,
   "metadata": {
    "ExecuteTime": {
     "end_time": "2018-05-20T18:59:55.782058Z",
     "start_time": "2018-05-20T18:59:55.753228Z"
    },
    "collapsed": true
   },
   "outputs": [],
   "source": [
    "# generate some input data relating to the similarities\n",
    "# first 2 dim: stem size and leaf shape, rest noise\n",
    "def get_input_data(random_dims=True):\n",
    "    if random_dims:\n",
    "        np.random.seed(15)\n",
    "        X = np.random.randn(16, 5)\n",
    "    else:\n",
    "        X = np.zeros((16, 5))\n",
    "    X[:,0] = np.array([17., 17., 17., 17., 25., 25., 25., 25., 38., 38., 38., 38., 50., 50., 50., 50.])\n",
    "    X[:,1] = np.array([4., 3., 2., 1., 4., 3., 2., 1., 4., 3., 2., 1., 4., 3., 2., 1.])\n",
    "    # mean center and normalize\n",
    "    X -= np.mean(X, axis=0)\n",
    "    s = np.std(X, axis=0)\n",
    "    s[s==0] = 1.\n",
    "    X /= s\n",
    "    # split into train/test part\n",
    "    return X[y,:], X[y_test,:]"
   ]
  },
  {
   "cell_type": "code",
   "execution_count": 9,
   "metadata": {
    "ExecuteTime": {
     "end_time": "2018-05-20T18:59:55.897376Z",
     "start_time": "2018-05-20T18:59:55.783930Z"
    }
   },
   "outputs": [
    {
     "name": "stdout",
     "output_type": "stream",
     "text": [
      "MSQ Error: 0.04007\n"
     ]
    },
    {
     "data": {
      "image/png": "[encoded data removed]",
      "text/plain": [
       "<matplotlib.figure.Figure at 0x7f64ec9140d0>"
      ]
     },
     "metadata": {},
     "output_type": "display_data"
    }
   ],
   "source": [
    "# embed based on linear kernel - no noise\n",
    "X_train, X_test = get_input_data(False)\n",
    "kpca = KernelPCA(n_components=2, kernel='linear')\n",
    "X_embed = kpca.fit_transform(X_train)\n",
    "X_embed_test = kpca.transform(X_test)\n",
    "plot_flowerpots_2d(X_embed, y+1, X_embed_test, y_test+1)\n",
    "plt.title('Linear kPCA embedding of input data without noise');\n",
    "# to compute the error, reorder the embedded data again\n",
    "X_stacked = np.concatenate((X_embed, X_embed_test))[np.argsort(idx),:]\n",
    "S_approx = np.dot(X_stacked, X_stacked.T)\n",
    "print(\"MSQ Error: %.5f\" % np.mean((S/np.abs(S).max() - S_approx/np.abs(S_approx).max())**2))"
   ]
  },
  {
   "cell_type": "code",
   "execution_count": 10,
   "metadata": {
    "ExecuteTime": {
     "end_time": "2018-05-20T18:59:56.003917Z",
     "start_time": "2018-05-20T18:59:55.899169Z"
    }
   },
   "outputs": [
    {
     "name": "stdout",
     "output_type": "stream",
     "text": [
      "MSQ Error: 0.09656\n"
     ]
    },
    {
     "data": {
      "image/png": "[encoded data removed]",
      "text/plain": [
       "<matplotlib.figure.Figure at 0x7f64eca2bd50>"
      ]
     },
     "metadata": {},
     "output_type": "display_data"
    }
   ],
   "source": [
    "# embed based on linear kernel - with noise\n",
    "X_train, X_test = get_input_data(True)\n",
    "kpca = KernelPCA(n_components=2, kernel='linear')\n",
    "X_embed = kpca.fit_transform(X_train)\n",
    "X_embed_test = kpca.transform(X_test)\n",
    "plot_flowerpots_2d(X_embed, y+1, X_embed_test, y_test+1)\n",
    "plt.title('Linear kPCA embedding of input data with noise')\n",
    "X_stacked = np.concatenate((X_embed, X_embed_test))[np.argsort(idx),:]\n",
    "S_approx = np.dot(X_stacked, X_stacked.T)\n",
    "print(\"MSQ Error: %.5f\" % np.mean((S/np.abs(S).max() - S_approx/np.abs(S_approx).max())**2))"
   ]
  },
  {
   "cell_type": "code",
   "execution_count": 11,
   "metadata": {
    "ExecuteTime": {
     "end_time": "2018-05-20T18:59:58.468061Z",
     "start_time": "2018-05-20T18:59:56.005743Z"
    }
   },
   "outputs": [
    {
     "name": "stdout",
     "output_type": "stream",
     "text": [
      "Epoch 1/50\n",
      "14/14 [==============================] - 2s 134ms/step - loss: 0.3740\n",
      "Epoch 2/50\n",
      "14/14 [==============================] - 0s 384us/step - loss: 0.2388\n",
      "Epoch 3/50\n",
      "14/14 [==============================] - 0s 251us/step - loss: 0.1483\n",
      "Epoch 4/50\n",
      "14/14 [==============================] - 0s 195us/step - loss: 0.1134\n",
      "Epoch 5/50\n",
      "14/14 [==============================] - 0s 284us/step - loss: 0.1191\n",
      "Epoch 6/50\n",
      "14/14 [==============================] - 0s 250us/step - loss: 0.1350\n",
      "Epoch 7/50\n",
      "14/14 [==============================] - 0s 192us/step - loss: 0.1363\n",
      "Epoch 8/50\n",
      "14/14 [==============================] - 0s 263us/step - loss: 0.1180\n",
      "Epoch 9/50\n",
      "14/14 [==============================] - 0s 277us/step - loss: 0.0939\n",
      "Epoch 10/50\n",
      "14/14 [==============================] - 0s 218us/step - loss: 0.0765\n",
      "Epoch 11/50\n",
      "14/14 [==============================] - 0s 172us/step - loss: 0.0709\n",
      "Epoch 12/50\n",
      "14/14 [==============================] - 0s 294us/step - loss: 0.0719\n",
      "Epoch 13/50\n",
      "14/14 [==============================] - 0s 228us/step - loss: 0.0739\n",
      "Epoch 14/50\n",
      "14/14 [==============================] - 0s 198us/step - loss: 0.0730\n",
      "Epoch 15/50\n",
      "14/14 [==============================] - 0s 194us/step - loss: 0.0686\n",
      "Epoch 16/50\n",
      "14/14 [==============================] - 0s 176us/step - loss: 0.0631\n",
      "Epoch 17/50\n",
      "14/14 [==============================] - 0s 294us/step - loss: 0.0594\n",
      "Epoch 18/50\n",
      "14/14 [==============================] - 0s 389us/step - loss: 0.0585\n",
      "Epoch 19/50\n",
      "14/14 [==============================] - 0s 178us/step - loss: 0.0583\n",
      "Epoch 20/50\n",
      "14/14 [==============================] - 0s 187us/step - loss: 0.0569\n",
      "Epoch 21/50\n",
      "14/14 [==============================] - 0s 280us/step - loss: 0.0546\n",
      "Epoch 22/50\n",
      "14/14 [==============================] - 0s 254us/step - loss: 0.0527\n",
      "Epoch 23/50\n",
      "14/14 [==============================] - 0s 194us/step - loss: 0.0511\n",
      "Epoch 24/50\n",
      "14/14 [==============================] - 0s 202us/step - loss: 0.0495\n",
      "Epoch 25/50\n",
      "14/14 [==============================] - 0s 320us/step - loss: 0.0474\n",
      "Epoch 26/50\n",
      "14/14 [==============================] - 0s 193us/step - loss: 0.0448\n",
      "Epoch 27/50\n",
      "14/14 [==============================] - 0s 192us/step - loss: 0.0415\n",
      "Epoch 28/50\n",
      "14/14 [==============================] - 0s 217us/step - loss: 0.0385\n",
      "Epoch 29/50\n",
      "14/14 [==============================] - 0s 331us/step - loss: 0.0369\n",
      "Epoch 30/50\n",
      "14/14 [==============================] - 0s 298us/step - loss: 0.0365\n",
      "Epoch 31/50\n",
      "14/14 [==============================] - 0s 182us/step - loss: 0.0365\n",
      "Epoch 32/50\n",
      "14/14 [==============================] - 0s 169us/step - loss: 0.0365\n",
      "Epoch 33/50\n",
      "14/14 [==============================] - 0s 185us/step - loss: 0.0364\n",
      "Epoch 34/50\n",
      "14/14 [==============================] - 0s 175us/step - loss: 0.0364\n",
      "Epoch 35/50\n",
      "14/14 [==============================] - 0s 192us/step - loss: 0.0362\n",
      "Epoch 36/50\n",
      "14/14 [==============================] - 0s 174us/step - loss: 0.0358\n",
      "Epoch 37/50\n",
      "14/14 [==============================] - 0s 230us/step - loss: 0.0350\n",
      "Epoch 38/50\n",
      "14/14 [==============================] - 0s 194us/step - loss: 0.0340\n",
      "Epoch 39/50\n",
      "14/14 [==============================] - 0s 163us/step - loss: 0.0332\n",
      "Epoch 40/50\n",
      "14/14 [==============================] - 0s 187us/step - loss: 0.0328\n",
      "Epoch 41/50\n",
      "14/14 [==============================] - 0s 179us/step - loss: 0.0328\n",
      "Epoch 42/50\n",
      "14/14 [==============================] - 0s 295us/step - loss: 0.0330\n",
      "Epoch 43/50\n",
      "14/14 [==============================] - 0s 186us/step - loss: 0.0332\n",
      "Epoch 44/50\n",
      "14/14 [==============================] - 0s 178us/step - loss: 0.0331\n",
      "Epoch 45/50\n",
      "14/14 [==============================] - 0s 200us/step - loss: 0.0330\n",
      "Epoch 46/50\n",
      "14/14 [==============================] - 0s 163us/step - loss: 0.0330\n",
      "Epoch 47/50\n",
      "14/14 [==============================] - 0s 181us/step - loss: 0.0329\n",
      "Epoch 48/50\n",
      "14/14 [==============================] - 0s 193us/step - loss: 0.0327\n",
      "Epoch 49/50\n",
      "14/14 [==============================] - 0s 196us/step - loss: 0.0324\n",
      "Epoch 50/50\n",
      "14/14 [==============================] - 0s 216us/step - loss: 0.0321\n",
      "MSQ Error: 0.04478\n"
     ]
    },
    {
     "data": {
      "image/png": "[encoded data removed]",
      "text/plain": [
       "<matplotlib.figure.Figure at 0x7f64f36aa590>"
      ]
     },
     "metadata": {},
     "output_type": "display_data"
    }
   ],
   "source": [
    "# embed with simec\n",
    "X_train, X_test = get_input_data(False)\n",
    "simec = SimilarityEncoder(X_train.shape[1], 2, S_train.shape[1], s_ll_reg=1., S_ll=S_train, opt=keras.optimizers.Adamax(lr=0.5))\n",
    "simec.fit(X_train, S_train, 50)\n",
    "X_embed = simec.transform(X_train)\n",
    "X_embed_test = simec.transform(X_test)\n",
    "plot_flowerpots_2d(X_embed, y+1, X_embed_test, y_test+1)\n",
    "plt.title('SimEc Embedding (no noise)')\n",
    "X_stacked = np.concatenate((X_embed, X_embed_test))[np.argsort(idx),:]\n",
    "S_approx = np.dot(X_stacked, X_stacked.T)\n",
    "print(\"MSQ Error: %.5f\" % np.mean((S/np.abs(S).max() - S_approx/np.abs(S_approx).max())**2))"
   ]
  },
  {
   "cell_type": "code",
   "execution_count": 12,
   "metadata": {
    "ExecuteTime": {
     "end_time": "2018-05-20T18:59:58.500849Z",
     "start_time": "2018-05-20T18:59:58.469873Z"
    }
   },
   "outputs": [
    {
     "data": {
      "text/plain": [
       "[array([[ 0.27476025, -0.17789172],\n",
       "        [ 0.21233568,  0.32378882],\n",
       "        [ 0.01434895,  0.01926874],\n",
       "        [ 0.01767436, -0.01684698],\n",
       "        [-0.00719833, -0.00967662]], dtype=float32),\n",
       " array([ 0.00315649,  0.01547986], dtype=float32)]"
      ]
     },
     "execution_count": 12,
     "metadata": {},
     "output_type": "execute_result"
    }
   ],
   "source": [
    "# check out the weights - mostly focus on first 2 dim\n",
    "simec.model.layers[1].get_weights()"
   ]
  },
  {
   "cell_type": "code",
   "execution_count": 13,
   "metadata": {
    "ExecuteTime": {
     "end_time": "2018-05-20T18:59:59.036735Z",
     "start_time": "2018-05-20T18:59:58.502546Z"
    }
   },
   "outputs": [
    {
     "name": "stdout",
     "output_type": "stream",
     "text": [
      "Epoch 1/50\n",
      "14/14 [==============================] - 0s 5ms/step - loss: 0.4767\n",
      "Epoch 2/50\n",
      "14/14 [==============================] - 0s 228us/step - loss: 0.1812\n",
      "Epoch 3/50\n",
      "14/14 [==============================] - 0s 267us/step - loss: 0.1303\n",
      "Epoch 4/50\n",
      "14/14 [==============================] - 0s 258us/step - loss: 0.1242\n",
      "Epoch 5/50\n",
      "14/14 [==============================] - 0s 162us/step - loss: 0.1105\n",
      "Epoch 6/50\n",
      "14/14 [==============================] - 0s 175us/step - loss: 0.1126\n",
      "Epoch 7/50\n",
      "14/14 [==============================] - 0s 385us/step - loss: 0.1276\n",
      "Epoch 8/50\n",
      "14/14 [==============================] - 0s 197us/step - loss: 0.1164\n",
      "Epoch 9/50\n",
      "14/14 [==============================] - 0s 185us/step - loss: 0.0996\n",
      "Epoch 10/50\n",
      "14/14 [==============================] - 0s 166us/step - loss: 0.0997\n",
      "Epoch 11/50\n",
      "14/14 [==============================] - 0s 353us/step - loss: 0.0938\n",
      "Epoch 12/50\n",
      "14/14 [==============================] - 0s 240us/step - loss: 0.0802\n",
      "Epoch 13/50\n",
      "14/14 [==============================] - 0s 171us/step - loss: 0.0694\n",
      "Epoch 14/50\n",
      "14/14 [==============================] - 0s 181us/step - loss: 0.0630\n",
      "Epoch 15/50\n",
      "14/14 [==============================] - 0s 214us/step - loss: 0.0578\n",
      "Epoch 16/50\n",
      "14/14 [==============================] - 0s 361us/step - loss: 0.0536\n",
      "Epoch 17/50\n",
      "14/14 [==============================] - 0s 156us/step - loss: 0.0516\n",
      "Epoch 18/50\n",
      "14/14 [==============================] - 0s 208us/step - loss: 0.0513\n",
      "Epoch 19/50\n",
      "14/14 [==============================] - 0s 202us/step - loss: 0.0510\n",
      "Epoch 20/50\n",
      "14/14 [==============================] - 0s 188us/step - loss: 0.0490\n",
      "Epoch 21/50\n",
      "14/14 [==============================] - 0s 173us/step - loss: 0.0455\n",
      "Epoch 22/50\n",
      "14/14 [==============================] - 0s 168us/step - loss: 0.0420\n",
      "Epoch 23/50\n",
      "14/14 [==============================] - 0s 191us/step - loss: 0.0401\n",
      "Epoch 24/50\n",
      "14/14 [==============================] - 0s 211us/step - loss: 0.0401\n",
      "Epoch 25/50\n",
      "14/14 [==============================] - 0s 188us/step - loss: 0.0410\n",
      "Epoch 26/50\n",
      "14/14 [==============================] - 0s 178us/step - loss: 0.0415\n",
      "Epoch 27/50\n",
      "14/14 [==============================] - 0s 171us/step - loss: 0.0414\n",
      "Epoch 28/50\n",
      "14/14 [==============================] - 0s 195us/step - loss: 0.0405\n",
      "Epoch 29/50\n",
      "14/14 [==============================] - 0s 182us/step - loss: 0.0390\n",
      "Epoch 30/50\n",
      "14/14 [==============================] - 0s 191us/step - loss: 0.0372\n",
      "Epoch 31/50\n",
      "14/14 [==============================] - 0s 190us/step - loss: 0.0357\n",
      "Epoch 32/50\n",
      "14/14 [==============================] - 0s 183us/step - loss: 0.0351\n",
      "Epoch 33/50\n",
      "14/14 [==============================] - 0s 176us/step - loss: 0.0352\n",
      "Epoch 34/50\n",
      "14/14 [==============================] - 0s 208us/step - loss: 0.0356\n",
      "Epoch 35/50\n",
      "14/14 [==============================] - 0s 172us/step - loss: 0.0354\n",
      "Epoch 36/50\n",
      "14/14 [==============================] - 0s 184us/step - loss: 0.0348\n",
      "Epoch 37/50\n",
      "14/14 [==============================] - 0s 191us/step - loss: 0.0340\n",
      "Epoch 38/50\n",
      "14/14 [==============================] - 0s 180us/step - loss: 0.0334\n",
      "Epoch 39/50\n",
      "14/14 [==============================] - 0s 184us/step - loss: 0.0331\n",
      "Epoch 40/50\n",
      "14/14 [==============================] - 0s 197us/step - loss: 0.0331\n",
      "Epoch 41/50\n",
      "14/14 [==============================] - 0s 186us/step - loss: 0.0331\n",
      "Epoch 42/50\n",
      "14/14 [==============================] - 0s 188us/step - loss: 0.0330\n",
      "Epoch 43/50\n",
      "14/14 [==============================] - 0s 232us/step - loss: 0.0329\n",
      "Epoch 44/50\n",
      "14/14 [==============================] - 0s 202us/step - loss: 0.0326\n",
      "Epoch 45/50\n",
      "14/14 [==============================] - 0s 174us/step - loss: 0.0325\n",
      "Epoch 46/50\n",
      "14/14 [==============================] - 0s 167us/step - loss: 0.0324\n",
      "Epoch 47/50\n",
      "14/14 [==============================] - 0s 185us/step - loss: 0.0323\n",
      "Epoch 48/50\n",
      "14/14 [==============================] - 0s 196us/step - loss: 0.0323\n",
      "Epoch 49/50\n",
      "14/14 [==============================] - 0s 194us/step - loss: 0.0321\n",
      "Epoch 50/50\n",
      "14/14 [==============================] - 0s 268us/step - loss: 0.0320\n",
      "MSQ Error: 0.05257\n"
     ]
    },
    {
     "data": {
      "image/png": "[encoded data removed]",
      "text/plain": [
       "<matplotlib.figure.Figure at 0x7f64ecb88050>"
      ]
     },
     "metadata": {},
     "output_type": "display_data"
    }
   ],
   "source": [
    "# embed with simec - with noise\n",
    "X_train, X_test = get_input_data(True)\n",
    "simec = SimilarityEncoder(X_train.shape[1], 2, S_train.shape[1], s_ll_reg=1., S_ll=S_train, opt=keras.optimizers.Adamax(lr=0.5))\n",
    "simec.fit(X_train, S_train, 50)\n",
    "X_embed = simec.transform(X_train)\n",
    "X_embed_test = simec.transform(X_test)\n",
    "plot_flowerpots_2d(X_embed, y+1, X_embed_test, y_test+1)\n",
    "plt.title('SimEc Embedding (with noise)')\n",
    "X_stacked = np.concatenate((X_embed, X_embed_test))[np.argsort(idx),:]\n",
    "S_approx = np.dot(X_stacked, X_stacked.T)\n",
    "print(\"MSQ Error: %.5f\" % np.mean((S/np.abs(S).max() - S_approx/np.abs(S_approx).max())**2))"
   ]
  },
  {
   "cell_type": "code",
   "execution_count": 14,
   "metadata": {
    "ExecuteTime": {
     "end_time": "2018-05-20T18:59:59.071051Z",
     "start_time": "2018-05-20T18:59:59.038710Z"
    }
   },
   "outputs": [
    {
     "data": {
      "text/plain": [
       "[array([[ 0.02776959, -0.31943965],\n",
       "        [ 0.38503617,  0.01871875],\n",
       "        [-0.00861213, -0.06493963],\n",
       "        [ 0.01515204,  0.03144845],\n",
       "        [ 0.00947615,  0.00858514]], dtype=float32),\n",
       " array([ 0.01342193,  0.00589182], dtype=float32)]"
      ]
     },
     "execution_count": 14,
     "metadata": {},
     "output_type": "execute_result"
    }
   ],
   "source": [
    "# it learns to only use the first 2 relevant features, not the 3 noise features\n",
    "simec.model.layers[1].get_weights()"
   ]
  },
  {
   "cell_type": "code",
   "execution_count": 15,
   "metadata": {
    "ExecuteTime": {
     "end_time": "2018-05-20T18:59:59.115750Z",
     "start_time": "2018-05-20T18:59:59.074570Z"
    },
    "collapsed": true
   },
   "outputs": [],
   "source": [
    "WWT = np.dot(simec.model.layers[1].get_weights()[0], simec.model.layers[1].get_weights()[0].T)"
   ]
  },
  {
   "cell_type": "code",
   "execution_count": 16,
   "metadata": {
    "ExecuteTime": {
     "end_time": "2018-05-20T18:59:59.148105Z",
     "start_time": "2018-05-20T18:59:59.118829Z"
    }
   },
   "outputs": [
    {
     "data": {
      "text/plain": [
       "array([[ 0.1434945 , -0.27592276,  0.00913499, -0.00053563,  0.00070632]])"
      ]
     },
     "execution_count": 16,
     "metadata": {},
     "output_type": "execute_result"
    }
   ],
   "source": [
    "# we can also interpret why points are regarded as similar, e.g.\n",
    "# flowerpots 4 and 1 are similar because of the first dimension (stem size),\n",
    "# but not because of the second dimension (leaf shape);\n",
    "# the last 3 random dimensions are irrelevant\n",
    "np.dot(X_train[y+1==4], WWT)*X_train[y+1==1]"
   ]
  },
  {
   "cell_type": "code",
   "execution_count": 17,
   "metadata": {
    "ExecuteTime": {
     "end_time": "2018-05-20T18:59:59.174585Z",
     "start_time": "2018-05-20T18:59:59.149614Z"
    }
   },
   "outputs": [
    {
     "data": {
      "text/plain": [
       "array([[-0.16200991,  0.27592276, -0.00345775,  0.00117533,  0.00112934]])"
      ]
     },
     "execution_count": 17,
     "metadata": {},
     "output_type": "execute_result"
    }
   ],
   "source": [
    "# flowerpots 4 and 16 are similar because of the second dimension (leaf shape),\n",
    "# but not because of the first dimension (stem size);\n",
    "# the last 3 random dimensions are again irrelevant\n",
    "np.dot(X_train[y+1==4], WWT)*X_train[y+1==16]"
   ]
  },
  {
   "cell_type": "code",
   "execution_count": 18,
   "metadata": {
    "ExecuteTime": {
     "end_time": "2018-05-20T18:59:59.205857Z",
     "start_time": "2018-05-20T18:59:59.176897Z"
    }
   },
   "outputs": [
    {
     "data": {
      "text/plain": [
       "array([[-0.0509174 , -0.27592276, -0.01380738, -0.00087229,  0.00211895]])"
      ]
     },
     "execution_count": 18,
     "metadata": {},
     "output_type": "execute_result"
    }
   ],
   "source": [
    "# flowerpots 4 and 9 are not similar, mostly because of the second dimension (leaf shape),\n",
    "# but also a bit because of the first dimension (stem size);\n",
    "# the last 3 random dimensions are again irrelevant\n",
    "np.dot(X_train[y+1==4], WWT)*X_train[y+1==9]"
   ]
  },
  {
   "cell_type": "code",
   "execution_count": null,
   "metadata": {
    "collapsed": true
   },
   "outputs": [],
   "source": []
  }
 ],
 "metadata": {
  "kernelspec": {
   "display_name": "Python 3",
   "language": "python",
   "name": "python3"
  },
  "language_info": {
   "codemirror_mode": {
    "name": "ipython",
    "version": 3
   },
   "file_extension": ".py",
   "mimetype": "text/x-python",
   "name": "python",
   "nbconvert_exporter": "python",
   "pygments_lexer": "ipython3",
   "version": "3.7.3"
  }
 },
 "nbformat": 4,
 "nbformat_minor": 1
}
